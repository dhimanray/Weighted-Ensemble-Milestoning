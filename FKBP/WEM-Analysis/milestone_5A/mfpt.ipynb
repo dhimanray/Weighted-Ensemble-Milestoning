{
 "cells": [
  {
   "cell_type": "markdown",
   "metadata": {
    "collapsed": true
   },
   "source": [
    "**Jupyter: w_ipa**\n",
    "\n",
    "This is an example jupyter/ipython notebook for WESTPA simulations, designed for interactive analysis using w_ipa.  Use this as a template for further browser-based interactive analysis of simulations.\n",
    "\n",
    "You'll want to start each notebook session with the following:\n",
    "\n",
    "```\n",
    "    import w_ipython\n",
    "    w = w_ipython.WIPI()\n",
    "    w.main()\n",
    "```\n",
    "\n",
    "The w object can then be used for analysis.  Schemes can be listed and changed with\n",
    "\n",
    "```\n",
    "    w.list_schemes\n",
    "    w.scheme = SCHEME_NUMBER/NAME\n",
    "```\n",
    "\n",
    "Run help(w), or w.introduction for more details.\n",
    "\n",
    "Happy analyzing!"
   ]
  },
  {
   "cell_type": "code",
   "execution_count": 1,
   "metadata": {},
   "outputs": [
    {
     "name": "stdout",
     "output_type": "stream",
     "text": [
      "\n",
      "Welcome to w_ipa (WESTPA Interactive Python Analysis) v. 1.0B!\n",
      "Run w.introduction for a more thorough introduction, or w.help to see a list of options.\n",
      "Running analysis & loading files.\n",
      "\n",
      "Complete!\n",
      "Setting iteration to iter 5.\n"
     ]
    }
   ],
   "source": [
    "%matplotlib inline\n",
    "from matplotlib import pyplot as plt\n",
    "import numpy as np\n",
    "np.set_printoptions(threshold=np.inf)\n",
    "import w_ipa\n",
    "w = w_ipa.WIPI()\n",
    "# At startup, it will load or run the analysis schemes specified in the configuration file (typically west.cfg)\n",
    "w.main()\n",
    "w.interface = 'matplotlib'"
   ]
  },
  {
   "cell_type": "code",
   "execution_count": 3,
   "metadata": {},
   "outputs": [
    {
     "name": "stdout",
     "output_type": "stream",
     "text": [
      "Setting iteration to iter 1.\n",
      "total simulation time =  10.0 ps\n",
      "1.0\n",
      "Setting iteration to iter 2.\n",
      "total simulation time =  20.0 ps\n",
      "1.0\n",
      "Setting iteration to iter 3.\n",
      "total simulation time =  30.0 ps\n",
      "1.0\n",
      "Setting iteration to iter 4.\n",
      "total simulation time =  40.0 ps\n",
      "1.0\n",
      "Setting iteration to iter 5.\n",
      "total simulation time =  50.0 ps\n",
      "1.0\n",
      "MFPT =  50.0\n",
      "lifetime =  4.8\n",
      "1.0\n",
      "50.0\n"
     ]
    }
   ],
   "source": [
    "total_iteration = 5\n",
    "\n",
    "it = [0.0 for i in range(total_iteration)]\n",
    "\n",
    "flux = 0.0\n",
    "flux_array = []\n",
    "sink = 6.0\n",
    "\n",
    "lifetime = 0.0\n",
    "force_eval = 0.0\n",
    "\n",
    "count_forward = 0\n",
    "count_backward = 0\n",
    "for i in range(total_iteration):\n",
    "    w.iteration = i+1\n",
    "    l = w.current.pcoord\n",
    "    wts = w.current.weights\n",
    "    tau = 11\n",
    "    force_eval += (tau-1)*w.current.walkers*0.2\n",
    "    print 'total simulation time = ', force_eval, 'ps'\n",
    "    for j in range(len(l)):\n",
    "        #print j\n",
    "            \n",
    "        if l[j][0] < sink and l[j][tau-1] >= sink:\n",
    "            it[i] += wts[j]\n",
    "            #print wts[j]\n",
    "            count_forward += 1\n",
    "            for k in range(tau):\n",
    "                #print k\n",
    "                if l[j][k] < sink and l[j][k+1] >= sink:\n",
    "                    flux += wts[j]\n",
    "                    lifetime += wts[j]*(i*(tau-1)+k)\n",
    "                    break\n",
    "            #break\n",
    "                                        \n",
    "    print flux\n",
    "    flux_array.append(flux)\n",
    "    \n",
    "flux = flux/float(total_iteration*(tau-1))\n",
    "\n",
    "print \"MFPT = \", 1./flux     \n",
    "print \"lifetime = \", lifetime/sum(it)\n",
    "print sum(it)\n",
    "print sum(it)/flux\n",
    "\n",
    "f1 = open('milestone-data.dat','w')\n",
    "print >>f1, \"#MFPT  #MFPT_back  #lifetime  #forward probability  #backward probability #forward count #backward count\"\n",
    "print >>f1, 1./flux, 0.0, lifetime, 1.0, 0.0, count_forward, count_backward\n",
    "f1.close()"
   ]
  },
  {
   "cell_type": "code",
   "execution_count": 4,
   "metadata": {},
   "outputs": [
    {
     "name": "stdout",
     "output_type": "stream",
     "text": [
      "[1.0, 0.0, 0.0, 0.0, 0.0]\n"
     ]
    }
   ],
   "source": [
    "print it\n",
    "f1 = open('FPTD.dat','w')\n",
    "\n",
    "for i in range(len(it)):\n",
    "    print >>f1, i*(tau-1), it[i]\n",
    "    \n",
    "f1.close()"
   ]
  },
  {
   "cell_type": "code",
   "execution_count": 5,
   "metadata": {},
   "outputs": [
    {
     "data": {
      "text/plain": [
       "[<matplotlib.lines.Line2D at 0x7fdaca25b650>]"
      ]
     },
     "execution_count": 5,
     "metadata": {},
     "output_type": "execute_result"
    },
    {
     "data": {
      "image/png": "[encoded data removed]",
      "text/plain": [
       "<Figure size 432x288 with 1 Axes>"
      ]
     },
     "metadata": {
      "needs_background": "light"
     },
     "output_type": "display_data"
    }
   ],
   "source": [
    "plt.plot(it)"
   ]
  },
  {
   "cell_type": "code",
   "execution_count": 6,
   "metadata": {},
   "outputs": [
    {
     "data": {
      "image/png": "[encoded data removed]",
      "text/plain": [
       "<Figure size 432x288 with 1 Axes>"
      ]
     },
     "metadata": {
      "needs_background": "light"
     },
     "output_type": "display_data"
    }
   ],
   "source": [
    "plt.plot(flux_array)\n",
    "f1 = open('flux.dat','w')\n",
    "print >>f1, '#time #flux'\n",
    "for i in range(len(it)):\n",
    "    print >>f1, i*(tau-1), flux_array[i]\n",
    "    \n",
    "f1.close()"
   ]
  },
  {
   "cell_type": "code",
   "execution_count": null,
   "metadata": {},
   "outputs": [],
   "source": []
  }
 ],
 "metadata": {
  "anaconda-cloud": {},
  "kernelspec": {
   "display_name": "Python 2",
   "language": "python",
   "name": "python2"
  },
  "language_info": {
   "codemirror_mode": {
    "name": "ipython",
    "version": 2
   },
   "file_extension": ".py",
   "mimetype": "text/x-python",
   "name": "python",
   "nbconvert_exporter": "python",
   "pygments_lexer": "ipython2",
   "version": "2.7.15"
  }
 },
 "nbformat": 4,
 "nbformat_minor": 1
}
