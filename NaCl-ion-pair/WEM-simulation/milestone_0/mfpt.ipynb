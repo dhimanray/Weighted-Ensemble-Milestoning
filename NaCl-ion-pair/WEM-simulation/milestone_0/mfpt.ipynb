{
 "cells": [
  {
   "cell_type": "markdown",
   "metadata": {
    "collapsed": true
   },
   "source": [
    "**Jupyter: w_ipa**\n",
    "\n",
    "This is an example jupyter/ipython notebook for WESTPA simulations, designed for interactive analysis using w_ipa.  Use this as a template for further browser-based interactive analysis of simulations.\n",
    "\n",
    "You'll want to start each notebook session with the following:\n",
    "\n",
    "```\n",
    "    import w_ipython\n",
    "    w = w_ipython.WIPI()\n",
    "    w.main()\n",
    "```\n",
    "\n",
    "The w object can then be used for analysis.  Schemes can be listed and changed with\n",
    "\n",
    "```\n",
    "    w.list_schemes\n",
    "    w.scheme = SCHEME_NUMBER/NAME\n",
    "```\n",
    "\n",
    "Run help(w), or w.introduction for more details.\n",
    "\n",
    "Happy analyzing!"
   ]
  },
  {
   "cell_type": "code",
   "execution_count": 1,
   "metadata": {},
   "outputs": [
    {
     "name": "stderr",
     "output_type": "stream",
     "text": [
      "/home/dhiman/Miniconda2/envs/westpa-2017.10/lib/python2.7/site-packages/h5py/__init__.py:36: FutureWarning: Conversion of the second argument of issubdtype from `float` to `np.floating` is deprecated. In future, it will be treated as `np.float64 == np.dtype(float).type`.\n",
      "  from ._conv import register_converters as _register_converters\n"
     ]
    },
    {
     "name": "stdout",
     "output_type": "stream",
     "text": [
      "\n",
      "Welcome to w_ipa (WESTPA Interactive Python Analysis) v. 1.0B!\n",
      "Run w.introduction for a more thorough introduction, or w.help to see a list of options.\n",
      "Running analysis & loading files.\n",
      "Reanalyzing file assign.h5 for scheme TEST.\n",
      "Reanalyzing file direct.h5 for scheme TEST.\n",
      "\n",
      "Complete!\n",
      "Setting iteration to iter 213.\n"
     ]
    }
   ],
   "source": [
    "%matplotlib inline\n",
    "from matplotlib import pyplot as plt\n",
    "import numpy as np\n",
    "np.set_printoptions(threshold=np.inf)\n",
    "import w_ipa\n",
    "w = w_ipa.WIPI()\n",
    "# At startup, it will load or run the analysis schemes specified in the configuration file (typically west.cfg)\n",
    "w.main()\n",
    "w.interface = 'matplotlib'"
   ]
  },
  {
   "cell_type": "code",
   "execution_count": 2,
   "metadata": {},
   "outputs": [
    {
     "name": "stdout",
     "output_type": "stream",
     "text": [
      "Setting iteration to iter 1.\n",
      "0.0\n",
      "Setting iteration to iter 2.\n",
      "0.0\n",
      "Setting iteration to iter 3.\n",
      "0.0\n",
      "Setting iteration to iter 4.\n",
      "0.0\n",
      "Setting iteration to iter 5.\n",
      "1.3865779256794231e-05\n",
      "Setting iteration to iter 6.\n",
      "1.3865779256794231e-05\n",
      "Setting iteration to iter 7.\n",
      "1.3865779256794231e-05\n",
      "Setting iteration to iter 8.\n",
      "1.9242633480787652e-05\n",
      "Setting iteration to iter 9.\n",
      "2.3920416761839877e-05\n",
      "Setting iteration to iter 10.\n",
      "2.810956932091925e-05\n",
      "Setting iteration to iter 11.\n",
      "3.0730629539777776e-05\n",
      "Setting iteration to iter 12.\n",
      "3.380314520674286e-05\n",
      "Setting iteration to iter 13.\n",
      "4.060053082765789e-05\n",
      "Setting iteration to iter 14.\n",
      "4.503134200693533e-05\n",
      "Setting iteration to iter 15.\n",
      "4.85080088316323e-05\n",
      "Setting iteration to iter 16.\n",
      "5.042957919806099e-05\n",
      "Setting iteration to iter 17.\n",
      "5.056888250201125e-05\n",
      "Setting iteration to iter 18.\n",
      "5.148519759678812e-05\n",
      "Setting iteration to iter 19.\n",
      "5.479679843925316e-05\n",
      "Setting iteration to iter 20.\n",
      "5.958377342285726e-05\n",
      "Setting iteration to iter 21.\n",
      "5.9586069128921895e-05\n",
      "Setting iteration to iter 22.\n",
      "7.074623598139564e-05\n",
      "Setting iteration to iter 23.\n",
      "7.80112223819498e-05\n",
      "Setting iteration to iter 24.\n",
      "8.149093098400172e-05\n",
      "Setting iteration to iter 25.\n",
      "8.482796690301873e-05\n",
      "Setting iteration to iter 26.\n",
      "8.807053854984853e-05\n",
      "Setting iteration to iter 27.\n",
      "9.115087939817194e-05\n",
      "Setting iteration to iter 28.\n",
      "9.31779679013203e-05\n",
      "Setting iteration to iter 29.\n",
      "9.626545491082178e-05\n",
      "Setting iteration to iter 30.\n",
      "9.924802937508363e-05\n",
      "Setting iteration to iter 31.\n",
      "0.00010197120920779168\n",
      "Setting iteration to iter 32.\n",
      "0.00010221433577969182\n",
      "Setting iteration to iter 33.\n",
      "0.00010547261543155053\n",
      "Setting iteration to iter 34.\n",
      "0.00010752325477375263\n",
      "Setting iteration to iter 35.\n",
      "0.00010987880954011758\n",
      "Setting iteration to iter 36.\n",
      "0.0001122156478421318\n",
      "Setting iteration to iter 37.\n",
      "0.00011524284717874087\n",
      "Setting iteration to iter 38.\n",
      "0.00011528722418970846\n",
      "Setting iteration to iter 39.\n",
      "0.00011552827667021184\n",
      "Setting iteration to iter 40.\n",
      "0.00011552827667021184\n",
      "Setting iteration to iter 41.\n",
      "0.00011552827667021184\n",
      "Setting iteration to iter 42.\n",
      "0.00011895922202795201\n",
      "Setting iteration to iter 43.\n",
      "0.0001221393851454279\n",
      "Setting iteration to iter 44.\n",
      "0.00012249150980015903\n",
      "Setting iteration to iter 45.\n",
      "0.0001268151203749183\n",
      "Setting iteration to iter 46.\n",
      "0.00012722155102452853\n",
      "Setting iteration to iter 47.\n",
      "0.00012722155102452853\n",
      "Setting iteration to iter 48.\n",
      "0.00012722155102452853\n",
      "Setting iteration to iter 49.\n",
      "0.00012736200716186968\n",
      "Setting iteration to iter 50.\n",
      "0.00013066583433172117\n",
      "Setting iteration to iter 51.\n",
      "0.00013115878330384194\n",
      "Setting iteration to iter 52.\n",
      "0.00013401921185319518\n",
      "Setting iteration to iter 53.\n",
      "0.00013832349909091967\n",
      "Setting iteration to iter 54.\n",
      "0.0001413779808139899\n",
      "Setting iteration to iter 55.\n",
      "0.00014552285000587277\n",
      "Setting iteration to iter 56.\n",
      "0.00014817313139487537\n",
      "Setting iteration to iter 57.\n",
      "0.00015023854361547655\n",
      "Setting iteration to iter 58.\n",
      "0.00015127246485449513\n",
      "Setting iteration to iter 59.\n",
      "0.000151514042962815\n",
      "Setting iteration to iter 60.\n",
      "0.000151514042962815\n",
      "Setting iteration to iter 61.\n",
      "0.000151514042962815\n",
      "Setting iteration to iter 62.\n",
      "0.00015157482682851312\n",
      "Setting iteration to iter 63.\n",
      "0.00015430484472638055\n",
      "Setting iteration to iter 64.\n",
      "0.00015699223176606647\n",
      "Setting iteration to iter 65.\n",
      "0.00015706440343321985\n",
      "Setting iteration to iter 66.\n",
      "0.00015758584413499844\n",
      "Setting iteration to iter 67.\n",
      "0.00015810072920403078\n",
      "Setting iteration to iter 68.\n",
      "0.00015818595614913922\n",
      "Setting iteration to iter 69.\n",
      "0.00016013637702990454\n",
      "Setting iteration to iter 70.\n",
      "0.00016069952342452783\n",
      "Setting iteration to iter 71.\n",
      "0.000163062130282309\n",
      "Setting iteration to iter 72.\n",
      "0.00016361612753810066\n",
      "Setting iteration to iter 73.\n",
      "0.00016361612753810066\n",
      "Setting iteration to iter 74.\n",
      "0.0001661987003927477\n",
      "Setting iteration to iter 75.\n",
      "0.00016653694178165313\n",
      "Setting iteration to iter 76.\n",
      "0.00016694428805019845\n",
      "Setting iteration to iter 77.\n",
      "0.00016706042983379135\n",
      "Setting iteration to iter 78.\n",
      "0.00016951171604662424\n",
      "Setting iteration to iter 79.\n",
      "0.00017075434063590797\n",
      "Setting iteration to iter 80.\n",
      "0.00017186320071386343\n",
      "Setting iteration to iter 81.\n",
      "0.00017307578280746313\n",
      "Setting iteration to iter 82.\n",
      "0.00017540446549100573\n",
      "Setting iteration to iter 83.\n",
      "0.00017775987956225643\n",
      "Setting iteration to iter 84.\n",
      "0.00017894400094309518\n",
      "Setting iteration to iter 85.\n",
      "0.00017894400094309518\n",
      "Setting iteration to iter 86.\n",
      "0.00017896628774803817\n",
      "Setting iteration to iter 87.\n",
      "0.00018000593380098685\n",
      "Setting iteration to iter 88.\n",
      "0.00018152580821619122\n",
      "Setting iteration to iter 89.\n",
      "0.00018152580821619122\n",
      "Setting iteration to iter 90.\n",
      "0.0001836966517259817\n",
      "Setting iteration to iter 91.\n",
      "0.0001838982723201559\n",
      "Setting iteration to iter 92.\n",
      "0.00018513616245272396\n",
      "Setting iteration to iter 93.\n",
      "0.0001857228236019378\n",
      "Setting iteration to iter 94.\n",
      "0.00018607609280432675\n",
      "Setting iteration to iter 95.\n",
      "0.00018748278508222866\n",
      "Setting iteration to iter 96.\n",
      "0.00018866860554265887\n",
      "Setting iteration to iter 97.\n",
      "0.00018953601582813622\n",
      "Setting iteration to iter 98.\n",
      "0.00018960338631298564\n",
      "Setting iteration to iter 99.\n",
      "0.00019092511284571158\n",
      "Setting iteration to iter 100.\n",
      "0.0001909277595355791\n",
      "Setting iteration to iter 101.\n",
      "0.00019275543208964306\n",
      "Setting iteration to iter 102.\n",
      "0.00019286238010869688\n",
      "Setting iteration to iter 103.\n",
      "0.0001938275960901727\n",
      "Setting iteration to iter 104.\n",
      "0.00019383629713300363\n",
      "Setting iteration to iter 105.\n",
      "0.00019531795167326396\n",
      "Setting iteration to iter 106.\n",
      "0.00019546911402131041\n",
      "Setting iteration to iter 107.\n",
      "0.00019746460975688404\n",
      "Setting iteration to iter 108.\n",
      "0.0001975591298928232\n",
      "Setting iteration to iter 109.\n",
      "0.00019768919941665625\n",
      "Setting iteration to iter 110.\n",
      "0.00019781755015788375\n",
      "Setting iteration to iter 111.\n",
      "0.00019784309032129294\n",
      "Setting iteration to iter 112.\n",
      "0.00019791100698414235\n",
      "Setting iteration to iter 113.\n",
      "0.0001989281198219892\n",
      "Setting iteration to iter 114.\n",
      "0.00019894776930933126\n",
      "Setting iteration to iter 115.\n",
      "0.00019917354900914392\n",
      "Setting iteration to iter 116.\n",
      "0.00020008768229819673\n",
      "Setting iteration to iter 117.\n",
      "0.00020165458308928853\n",
      "Setting iteration to iter 118.\n",
      "0.00020173798132326666\n",
      "Setting iteration to iter 119.\n",
      "0.0002032780118724818\n",
      "Setting iteration to iter 120.\n",
      "0.00020333506874640716\n",
      "Setting iteration to iter 121.\n",
      "0.00020485812920812714\n",
      "Setting iteration to iter 122.\n",
      "0.0002049729743245667\n",
      "Setting iteration to iter 123.\n",
      "0.00020560378174626029\n",
      "Setting iteration to iter 124.\n",
      "0.00020609227074075065\n",
      "Setting iteration to iter 125.\n",
      "0.00020823966146515778\n",
      "Setting iteration to iter 126.\n",
      "0.00020841482228526722\n",
      "Setting iteration to iter 127.\n",
      "0.000209357751912877\n",
      "Setting iteration to iter 128.\n",
      "0.0002114554968618177\n",
      "Setting iteration to iter 129.\n",
      "0.00021349324520281542\n",
      "Setting iteration to iter 130.\n",
      "0.00021359816788825848\n",
      "Setting iteration to iter 131.\n",
      "0.00021432087565323348\n",
      "Setting iteration to iter 132.\n",
      "0.00021516369679547704\n",
      "Setting iteration to iter 133.\n",
      "0.00021617283925197503\n",
      "Setting iteration to iter 134.\n",
      "0.0002171754171649723\n",
      "Setting iteration to iter 135.\n",
      "0.00021804125024997394\n",
      "Setting iteration to iter 136.\n",
      "0.00021866973086414124\n",
      "Setting iteration to iter 137.\n",
      "0.0002190240059577074\n",
      "Setting iteration to iter 138.\n",
      "0.00021990500120726595\n",
      "Setting iteration to iter 139.\n",
      "0.00022109839775730737\n",
      "Setting iteration to iter 140.\n",
      "0.00022189701472125325\n",
      "Setting iteration to iter 141.\n",
      "0.0002221162245505241\n",
      "Setting iteration to iter 142.\n",
      "0.00022316263803498224\n",
      "Setting iteration to iter 143.\n",
      "0.00022317079934704178\n",
      "Setting iteration to iter 144.\n",
      "0.00022356620392894946\n",
      "Setting iteration to iter 145.\n",
      "0.00022459078872860027\n",
      "Setting iteration to iter 146.\n",
      "0.0002248476945530622\n",
      "Setting iteration to iter 147.\n",
      "0.00022508749714863588\n",
      "Setting iteration to iter 148.\n",
      "0.00022592726504580516\n",
      "Setting iteration to iter 149.\n",
      "0.00022677580672054106\n",
      "Setting iteration to iter 150.\n",
      "0.00022680318530133545\n",
      "Setting iteration to iter 151.\n",
      "0.00022711717234055804\n",
      "Setting iteration to iter 152.\n",
      "0.00022738983266305262\n",
      "Setting iteration to iter 153.\n",
      "0.00022765123205562712\n",
      "Setting iteration to iter 154.\n",
      "0.00022782556376045896\n",
      "Setting iteration to iter 155.\n",
      "0.00022783456736910084\n",
      "Setting iteration to iter 156.\n",
      "0.00022792671470656171\n",
      "Setting iteration to iter 157.\n",
      "0.00022811356188425159\n",
      "Setting iteration to iter 158.\n",
      "0.0002283784858504974\n",
      "Setting iteration to iter 159.\n",
      "0.0002295823935861501\n",
      "Setting iteration to iter 160.\n"
     ]
    },
    {
     "name": "stdout",
     "output_type": "stream",
     "text": [
      "0.00023012206529859954\n",
      "Setting iteration to iter 161.\n",
      "0.00023020029941573313\n",
      "Setting iteration to iter 162.\n",
      "0.00023086913331494703\n",
      "Setting iteration to iter 163.\n",
      "0.0002320431862150978\n",
      "Setting iteration to iter 164.\n",
      "0.00023321016607440133\n",
      "Setting iteration to iter 165.\n",
      "0.00023437008701507778\n",
      "Setting iteration to iter 166.\n",
      "0.00023447436228179398\n",
      "Setting iteration to iter 167.\n",
      "0.00023450908004257743\n",
      "Setting iteration to iter 168.\n",
      "0.00023456619294670155\n",
      "Setting iteration to iter 169.\n",
      "0.0002345775676559972\n",
      "Setting iteration to iter 170.\n",
      "0.00023459855696483366\n",
      "Setting iteration to iter 171.\n",
      "0.00023596273706555108\n",
      "Setting iteration to iter 172.\n",
      "0.00023610727306721648\n",
      "Setting iteration to iter 173.\n",
      "0.00023616061503933464\n",
      "Setting iteration to iter 174.\n",
      "0.00023746799282158316\n",
      "Setting iteration to iter 175.\n",
      "0.00023880089584226206\n",
      "Setting iteration to iter 176.\n",
      "0.00024019217633659487\n",
      "Setting iteration to iter 177.\n",
      "0.00024157561494191385\n",
      "Setting iteration to iter 178.\n",
      "0.00024176852741471643\n",
      "Setting iteration to iter 179.\n",
      "0.00024176852741471643\n",
      "Setting iteration to iter 180.\n",
      "0.00024176852741471643\n",
      "Setting iteration to iter 181.\n",
      "0.0002424447551990007\n",
      "Setting iteration to iter 182.\n",
      "0.0002424447551990007\n",
      "Setting iteration to iter 183.\n",
      "0.00024324468338500323\n",
      "Setting iteration to iter 184.\n",
      "0.00024404402700675833\n",
      "Setting iteration to iter 185.\n",
      "0.00024411200897977116\n",
      "Setting iteration to iter 186.\n",
      "0.000244140981636181\n",
      "Setting iteration to iter 187.\n",
      "0.00024436892175677173\n",
      "Setting iteration to iter 188.\n",
      "0.00024540751298772267\n",
      "Setting iteration to iter 189.\n",
      "0.00024667152637391647\n",
      "Setting iteration to iter 190.\n",
      "0.00024670541257883953\n",
      "Setting iteration to iter 191.\n",
      "0.0002467166826252458\n",
      "Setting iteration to iter 192.\n",
      "0.00024796121225910514\n",
      "Setting iteration to iter 193.\n",
      "0.0002480234353528823\n",
      "Setting iteration to iter 194.\n",
      "0.0002482603763426825\n",
      "Setting iteration to iter 195.\n",
      "0.00024826059139125084\n",
      "Setting iteration to iter 196.\n",
      "0.00024840976294470676\n",
      "Setting iteration to iter 197.\n",
      "0.000249460005481154\n",
      "Setting iteration to iter 198.\n",
      "0.00025004377649586476\n",
      "Setting iteration to iter 199.\n",
      "0.0002510834112703895\n",
      "Setting iteration to iter 200.\n",
      "0.00025127448346915485\n",
      "Setting iteration to iter 201.\n",
      "0.0002513861316264235\n",
      "Setting iteration to iter 202.\n",
      "0.0002515588766740839\n",
      "Setting iteration to iter 203.\n",
      "0.00025182607725159463\n",
      "Setting iteration to iter 204.\n",
      "0.0002525924463753658\n",
      "Setting iteration to iter 205.\n",
      "0.0002529591224254741\n",
      "Setting iteration to iter 206.\n",
      "0.0002531249744735982\n",
      "Setting iteration to iter 207.\n",
      "0.00025337216121619515\n",
      "Setting iteration to iter 208.\n",
      "0.00025347347581302303\n",
      "Setting iteration to iter 209.\n",
      "0.00025455888873596064\n",
      "Setting iteration to iter 210.\n",
      "0.00025568542745744635\n",
      "Setting iteration to iter 211.\n",
      "0.00025580853138283856\n",
      "Setting iteration to iter 212.\n",
      "0.0002568785118945496\n",
      "Setting iteration to iter 213.\n",
      "0.00025745809933230054\n",
      "MFPT =  3884.127174842934\n",
      "lifetime =  58007.97350004347\n",
      "8.551574288772732\n",
      "33215.40208271031\n"
     ]
    }
   ],
   "source": [
    "total_iteration = 213\n",
    "\n",
    "it = [0.0 for i in range(total_iteration)]\n",
    "\n",
    "flux = 0.0\n",
    "flux_array = []\n",
    "sink = 160.0\n",
    "\n",
    "lifetime = 0.0\n",
    "for i in range(total_iteration):\n",
    "    w.iteration = i+1\n",
    "    l = w.current.pcoord\n",
    "    wts = w.current.weights\n",
    "    tau = 501\n",
    "    \n",
    "    for j in range(len(l)):\n",
    "        #print j\n",
    "            \n",
    "        if l[j][0] < sink and l[j][tau-1] >= sink:\n",
    "            it[i] += wts[j]\n",
    "            #print wts[j]\n",
    "            for k in range(tau):\n",
    "                if l[j][k] < sink and l[j][k+1] >= sink:\n",
    "                    flux += wts[j]/float(i*tau+k)\n",
    "                    lifetime += wts[j]*(i*tau+k)\n",
    "                    break\n",
    "            break\n",
    "    print flux\n",
    "    flux_array.append(flux)\n",
    "    \n",
    "print \"MFPT = \", 1./flux     \n",
    "print \"lifetime = \", lifetime/sum(it)\n",
    "print sum(it)\n",
    "print sum(it)/flux\n",
    "\n",
    "f1 = open('milestone-data.dat','w')\n",
    "print >>f1, \"#MFPT  #MFPT_back  #lifetime  #forward probability  #backward probability\"\n",
    "print >>f1, 1./flux, 0.0, lifetime/(sum(it)), 1.0, 0.0\n",
    "f1.close()"
   ]
  },
  {
   "cell_type": "code",
   "execution_count": 4,
   "metadata": {},
   "outputs": [
    {
     "name": "stdout",
     "output_type": "stream",
     "text": [
      "MFPT =  239.50827552432662\n"
     ]
    }
   ],
   "source": [
    "print \"MFPT = \", float(tau)/flux\n"
   ]
  },
  {
   "cell_type": "code",
   "execution_count": 5,
   "metadata": {},
   "outputs": [
    {
     "name": "stdout",
     "output_type": "stream",
     "text": [
      "Setting iteration to iter 250.\n"
     ]
    },
    {
     "data": {
      "image/png": "[encoded data removed]",
      "text/plain": [
       "<Figure size 432x288 with 1 Axes>"
      ]
     },
     "metadata": {
      "needs_background": "light"
     },
     "output_type": "display_data"
    },
    {
     "name": "stderr",
     "output_type": "stream",
     "text": [
      "IOPub data rate exceeded.\n",
      "The notebook server will temporarily stop sending output\n",
      "to the client in order to avoid crashing it.\n",
      "To change this limit, set the config variable\n",
      "`--NotebookApp.iopub_data_rate_limit`.\n",
      "\n",
      "Current values:\n",
      "NotebookApp.iopub_data_rate_limit=1000000.0 (bytes/sec)\n",
      "NotebookApp.rate_limit_window=3.0 (secs)\n",
      "\n"
     ]
    }
   ],
   "source": [
    "w.iteration = 250\n",
    "final_trajectories = w.current.seg_id\n",
    "traj_trace = w.trace(final_trajectories[24])\n",
    "#print('What data can we access from our trace for segment {}?'.format(final_trajectories[45]))\n",
    "#print(traj_trace.keys())\n",
    "# Then plot something interesting about it, like the pcoord or the weight changes over time.\n",
    "# The resulting plot is per time point, not iteration.\n",
    "plt.plot(traj_trace['pcoord'])\n",
    "plt.show()\n",
    "print traj_trace['pcoord']\n",
    "print len(np.array(traj_trace['pcoord']))\n",
    "#print traj_trace['pcoord'].shape()\n",
    "#plt.plot(np.log10(traj_trace['weights']))\n",
    "#plt.show()\n",
    "#trajectory = traj_trace['pcoord']\n",
    "#print trajectory"
   ]
  },
  {
   "cell_type": "code",
   "execution_count": 11,
   "metadata": {},
   "outputs": [
    {
     "name": "stdout",
     "output_type": "stream",
     "text": [
      "Setting iteration to iter 1.\n",
      "10\n"
     ]
    },
    {
     "data": {
      "text/plain": [
       "['aggregate_walkers', 'auxdata', 'bins', 'color_prob_evolution', 'conditional_flux_evolution', 'direct', 'instant_matrix', 'iteration', 'matrix', 'maxweight', 'minweight', 'parent', 'parents', 'pcoord', 'rate_evolution', 'raw', 'reweight', 'seg_id', 'state_pop_evolution', 'states', 'successful_trajectories', 'summary', 'target_flux_evolution', 'total_fluxes', 'walkers', 'weights']"
      ]
     },
     "execution_count": 11,
     "metadata": {},
     "output_type": "execute_result"
    }
   ],
   "source": [
    "w.iteration = 1\n",
    "w.current.bins\n",
    "l1 = w.current.pcoord\n",
    "print len(l1)\n",
    "w.current"
   ]
  },
  {
   "cell_type": "code",
   "execution_count": 4,
   "metadata": {},
   "outputs": [
    {
     "name": "stdout",
     "output_type": "stream",
     "text": [
      "[0.0, 0.0, 0.0, 0.0, 0.0, 0.0, 0.0, 0.0, 5.1776246629187805e-08, 1.3826093502694526e-06, 3.7681274474032623e-06, 1.3472183666790668e-05, 1.3331054547306252e-05, 4.259562391300826e-05, 2.6576861929995816e-05, 8.246303079056918e-05, 6.82439587497308e-05, 0.00011847305993286607, 0.00014089383150045525, 0.00020705130113484645, 0.00019885478670150585, 0.00034064842601099247, 0.00044508024972321144, 0.0004116296006271741, 0.0006008721335047407, 0.0006771976902249264, 0.0006306285782054651, 0.0004643954648271254, 0.0010896655616584774, 0.0008444606908223379, 0.0012993184670511322, 0.0012304659288713794, 0.001003578233848782, 0.000569793007048002, 0.001294578788351631, 0.0012238470419705498, 0.0013700325636867307, 0.001739611934290513, 0.001229496200589249, 0.0010139775221613774, 0.0011715195680565738, 0.0006450533295566203, 0.0019053250989321958, 0.0014545886848514528, 0.001609668746430988, 0.0018464023764852883, 0.001638356633722819, 0.0015077483242450695, 0.0010967827492968357, 0.0015664651097608586, 0.0014244063822265102, 0.0014017670458830816, 0.001618506066344971, 0.0014209287269655196, 0.0013467761225888339, 0.0016709436544136808, 0.0011864175465908773, 0.0019322651279192141, 0.0014815273375454205, 0.001968478259827914, 0.0014967836122349993, 0.00256808367894442, 0.0015209916806877986, 0.0012664106153766268, 0.0014083036830894726, 0.0015216601103838696, 0.0012701525855107225, 0.0015068768992006036, 0.0016544511405563597, 0.0015260692099545786, 0.001760600662503821, 0.0019023923137765322, 0.0014828460084489973, 0.0016594575711339939, 0.001979644731384781, 0.0010991618218171933, 0.0016426413810630143, 0.00218601033180402, 0.0016153311740214917, 0.0021993527210882233, 0.0016522897175938083, 0.0015069227044420357, 0.0014047626529292076, 0.0011922068675656015, 0.0018762113964649015, 0.0022242011094465316, 0.001994037354175999, 0.001079896275672145, 0.001647621741987138, 0.0019099211865792165, 0.001881094306796776, 0.002591178014484535, 0.0013811913865788379, 0.0015675467927870055, 0.0016447826137712409, 0.0009974276734307011, 0.001915260157367932, 0.002467113115084366, 0.0020225163267287957, 0.0010400580583061908, 0.0017989652406418255, 0.0012145220427822623, 0.002089022154576421, 0.0017228540365405672, 0.002272231860846862, 0.0024300598497533766, 0.0020866731944408938, 0.0015999035225185752, 0.0019231649013135865, 0.0022604601213419688, 0.000899335409803572, 0.0011733458253257128, 0.0018495160823482205, 0.0021896648384857297, 0.0012453731154843898, 0.001090217090556076, 0.002466583580000593, 0.0023488700339623454, 0.0025204281986977383, 0.0016912110472629134, 0.0015571298586429846, 0.002720877843948527, 0.0017482770165448815, 0.002324468793408174, 0.0022375919211368163, 0.0027759892674693123, 0.0021489214278701085, 0.0021820802081948553, 0.0019075081361250158, 0.0020544691557811607, 0.0014395268288776774, 0.0012720864481507981, 0.0014711803217227323, 0.002071211382456094, 0.0017902353282087636, 0.0010667369513920398, 0.0011666732466983534, 0.0016314981304626549, 0.001280720157486135, 0.0015729929673065557, 0.0015031583435741115, 0.001862591216027485, 0.0011612244522614921, 0.001017374886479733, 0.0020750051182408984, 0.0012872427664676212, 0.0015868612447974314, 0.0013786258087563536, 0.0022158751422817124, 0.002029658887932747, 0.0015297716755702268, 0.0011311358880109076, 0.0016292682153571834, 0.0012797378413392092, 0.0010665916530911146, 0.0012549965776289256, 0.001673116072254516, 0.0020518046512167775, 0.0014209223025485193, 0.0010996822954131083, 0.0016626755503665366, 0.0012345085839366781, 0.0012974110254123476, 0.000953632599499824, 0.0014430347328356376, 0.001976903890708198, 0.0019125483371654, 0.0016112682642273933, 0.002315515028169812, 0.0021136380549350406, 0.0014316774727185508, 0.0018371065343654994, 0.0019638675960501127, 0.001771240700176483, 0.002530934881064375, 0.0023946281865332253, 0.0016629409359901713, 0.0012669459996864322, 0.0013177767966604816, 0.0013566296214320888, 0.0016656552957673657, 0.0009987596013150564, 0.0018853821232103429, 0.0013336008039629857, 0.0013428902809542096, 0.0013206887231954644, 0.0013790824009648267, 0.0015043942722113774, 0.0019590515731211984, 0.0008500785717982918, 0.0017947650971293974, 0.0015786334312624134, 0.0019333077921901357, 0.002035382754893627, 0.001869480583882933, 0.0013152273671428274, 0.0006883330562541086, 0.0014684621899481156, 0.0013100742065110154, 0.0011176769069100923, 0.000775063341900694, 0.0013325492390049583, 0.0019108784381660193, 0.0008947076650154521, 0.0011813089567694597, 0.0012684554280633412, 0.0017189454195944045, 0.0014086695384131907, 0.0010010691046649243, 0.0018746931274246882, 0.001380339641207717, 0.0013335679042930466, 0.001382792700015914, 0.0011851241249198506, 0.0015503681757912278, 0.0011768946896570898, 0.001239898817562495, 0.0011944211534594123, 0.0013358722344723904, 0.0015386749312944633, 0.001990154653804858, 0.0011922603956769702, 0.001402636141899062, 0.000950979445042421, 0.0014614402029938228, 0.0011677167353758731, 0.0014754836488166936, 0.0011699074815713676, 0.0012219575345968296, 0.0013948215894492393, 0.0012324547148872943, 0.0014153717322451967, 0.0015374908290141033, 0.0013769233344936049, 0.001384094891100838, 0.0018531584971640948, 0.0012378646831271733, 0.0009150100228277734, 0.0007784900296946798, 0.0011226224161865511, 0.0010810176185609144, 0.0005564142487918703, 0.0011929353169606695, 0.001407816165252642, 0.0015430266581733239, 0.0012609269920932184, 0.0011995009271692078, 0.0016164320548501829, 0.0009373871371801969, 0.001467162464818673, 0.0012864464142959583, 0.0019096441618896562, 0.0017706819853140934, 0.0019699331715164023, 0.0014169892619203231, 0.0014326248671768743, 0.0012294085589496426, 0.0009103950722510597, 0.0011763908404448084, 0.0017729636558114323, 0.000969069332747877, 0.0011319593403848252, 0.0012274450742487827, 0.0015118702347369855, 0.0015684939640088274, 0.001412863656285389, 0.0010230764214353468, 0.0014385919063939984, 0.0010289542374921285, 0.0009802588517541513, 0.0008271604382282974, 0.0011976038622875309, 0.001133362534155829, 0.000896052930210178, 0.0013330205431033384, 0.0010852948795161384, 0.0009676953383343596, 0.0012094884806723655, 0.0011671060013462493, 0.0011616603798534643, 0.0010218255520551755, 0.0011841441376078219, 0.0008368477808492116, 0.001135003435343899, 0.0011537177386824655, 0.0009280950743559583, 0.0017438109553960341, 0.0011952167083683282, 0.0015709868568970602, 0.0012228590391574242, 0.000962485659189772, 0.0006598128330256097, 0.0010191167593926892, 0.0010347519326765397, 0.0013152400352447373, 0.0013590583432638856, 0.00114598597713435, 0.0008349528895136454, 0.0008897176650564463, 0.0010865809014659617, 0.001022982888255909, 0.0010105095248811257, 0.0008217775283588369, 0.0010797515188392236, 0.001020236968473648, 0.0008584456018276238, 0.001403530415718119, 0.0011777946250439994, 0.0010623124741918743, 0.00124061326780817, 0.0011650352928990922, 0.0013129122012434616, 0.0011878985397843467, 0.0011260887989963133, 0.0010546883430235863, 0.0011782922149716432, 0.0012465196511937504, 0.0009365188077255094, 0.0012500328864426642, 0.0011729813960847807, 0.0013555276737376354, 0.001280321871358895, 0.0012162897448943018, 0.0013078231136365395, 0.0009354923403737296, 0.0011015753597306268, 0.001221229821924756, 0.0013914731184050486, 0.001086025842926743, 0.0013039896375016484, 0.001488656740438413, 0.0008310571170421469, 0.0007846079429496191, 0.0011524397218448353, 0.0017202347835490936, 0.001072216566073289, 0.001146405575598262, 0.0010881925769507341, 0.001490755931943854, 0.00119866703046763, 0.000971341081144184, 0.0011826243637934218, 0.0010063008809082208, 0.0012967801735881454, 0.0012644498971878977, 0.0006616411367182448, 0.0012796913319692111, 0.0011245282936884835, 0.001225492047634327, 0.0011932015180260833, 0.0010829682342208492, 0.000850078482176833, 0.0013232694487928663, 0.0008665831559605166, 0.0010134722326026904, 0.0012271220911635493, 0.0007894738912292297, 0.001013273313198865, 0.001101772268086097, 0.0011356494841583042, 0.0012986855362758776, 0.0008400172851622305, 0.0008224349293874658, 0.0011082629005304393, 0.0011511093322290496, 0.001105294809120463, 0.00125800089209755, 0.0012305803717194562, 0.0011606553047786774, 0.0009793438530474514, 0.0008456255264165863, 0.001176349310283642, 0.0009061519797325794, 0.0005502731743693835, 0.001102406827102736, 0.0008482203970424759, 0.0009448007030865503, 0.0008819867961124926, 0.0014907411895847863, 0.000890331480680677, 0.0009142826429583465, 0.0007909125418332816, 0.0007806797150796688, 0.0009012609103665754, 0.0010740302279763948, 0.0008051544468317349, 0.001016046809254123, 0.0010625023771062782, 0.0009876096600426197, 0.0007608112970069401, 0.0011754961117799148, 0.0008131893634950657, 0.0013823031318999722, 0.0006549344939647886, 0.0007989524889430072, 0.0005922265633210518, 0.00083819309937975, 0.0008726125675474225, 0.000634453924031653, 0.0006214887625441588, 0.0009528835443753088, 0.0006971773527241746, 0.0006329755018968135, 0.0007072209431133798, 0.0005886577637501019, 0.000887620276900329, 0.0008235230463413859, 0.0008884884011384254, 0.0009593701784901372, 0.0012576114566889866, 0.0009183413424362179, 0.000494818480966229, 0.0006855614181910412, 0.0008046089456064654, 0.0007784332595431279, 0.0007547037830067522, 0.0005990527329685322, 0.0008029293955083994, 0.0009977811408601398, 0.0008280687854335444, 0.0006401229835030289, 0.0007647213778517322, 0.0010309859738597649, 0.0006532921052796036, 0.0004373133126114008, 0.0005887892541266954, 0.0004566600843371472, 0.0010655821034803801, 0.0010156401173998847, 0.0009383198220281665, 0.0006501844429925682, 0.0006512102167693282, 0.0008696023242023177, 0.0007635958450891256, 0.0009063610214476434, 0.0008768658772738544, 0.0011076358223712278, 0.000950911397392929, 0.000907028504636898, 0.0007110154368626798, 0.0005734539766403921, 0.0006322309611473195, 0.0008147248586497977, 0.0007656215418361073, 0.0005714936881701875, 0.0007608067355707406, 0.0008945351556484102, 0.0007176813724306262, 0.0007344841657870063, 0.0011149175836712884, 0.0009390520108330815, 0.0005998819015571883, 0.0005903503619829846, 0.0008060141553050755, 0.0008313430283979516, 0.0010600128359914262, 0.0009811451535717446, 0.0011095471477644689, 0.0013642273143280404, 0.0008282193183333023, 0.0008484278980360458, 0.0004456476452675366, 0.0007862248460237341, 0.0007862557915385288, 0.0009040019117537894, 0.000942970337143275, 0.0006942662111783599, 0.0005426069721176912, 0.0007941731985955508, 0.0007562067918449894, 0.0006702866669552203, 0.0009461111488481656, 0.0007756166909325468, 0.0008515151337587722, 0.0007934268524550874, 0.0006998016536956135, 0.0008075318688229821, 0.0007567817540127837, 0.0008048325205117325, 0.0008306512161921506, 0.000689789507136324, 0.0005126384976940311, 0.0007378060876958514, 0.0005388350896416951, 0.0005004821781119567, 0.0006200334296826277, 0.0005717795636342707, 0.0006605614529439606, 0.0007407609614671245, 0.0006001748447521349, 0.0009749215005418646, 0.0011023814800999443, 0.0008530578707882569, 0.0005419706740977426, 0.0007002925344335174, 0.0007038863636186725, 0.0009704738382023807, 0.0007587260600164957, 0.00048455695009107073, 0.001027356467519902, 0.0005006040137172835, 0.0006658652332108635, 0.0007459188145772523, 0.0006863533971422455, 0.00083745652108221, 0.0009211729738844695, 0.000603447768219662, 0.0009008396759371041, 0.000999936555178641, 0.0005681779795500513, 0.0006956371258141159, 0.000655829617538833, 0.0007118051164814567, 0.0006112322061489699, 0.0010879179791935208, 0.0004806884624828998, 0.0005098113266948587, 0.00051411536530402, 0.0007123020577735361, 0.0006085172473984605, 0.0005674378895426224, 0.0007755363358915307, 0.0010768296236279514, 0.000813346075849293, 0.0007886282736342429, 0.00044884765629060356, 0.0006848361616858992, 0.0006659939443701787, 0.0007154122595900318, 0.0007726886167468757, 0.0009947307257862001, 0.0008733183785815524, 0.0008361937079302449, 0.0006888416683851796, 0.0007648010421934886, 0.000594772054668488, 0.0009520256499857888, 0.0006388210196690528, 0.0007624134805307393, 0.0006250473782750114, 0.000939762599068119, 0.0009221505939733404, 0.000403002841102141, 0.000761806698746188, 0.0007622744125051178, 0.0007020001930532878, 0.0007799843059031191, 0.0010032932938555186, 0.0005497121975967802, 0.000563584963953927, 0.0007841459997343231, 0.0006130977492390947, 0.0005883017849290944, 0.0005959426587944612, 0.000802833982534934, 0.0008424715204184843, 0.0006235948959447297, 0.0008768925699161746, 0.0007344701136421379, 0.0007918223696950351, 0.0006341496666819502, 0.0007560349712919777, 0.0007456355276643594, 0.0008982547451814845, 0.0008242234934014575, 0.0008559090836329597, 0.0007195693353871254, 0.0006742346700084395, 0.0005252202625083119, 0.0007869106667338431, 0.0005874506591815728, 0.0007449947442942961, 0.0005573265872828173, 0.0006120674504594265, 0.0009045086950856227, 0.0006086453795207896, 0.0004778090954586065, 0.0006143962071430708, 0.0006334910250253631, 0.0006415908815388314, 0.0006641726245551919, 0.0006541436417809831, 0.0006938259046131035, 0.0007188450496021003, 0.0005872818679278743, 0.0005350778077724574, 0.00025703162296587524, 0.0007754628668299339, 0.0006557221262875781, 0.00044762643740809457, 0.000464545235443675, 0.0005179068846625496, 0.0007574293631690115, 0.0006311687727083442, 0.0006863583596483925, 0.0005984043648406187, 0.0006999586895950191, 0.000708337733377408, 0.000647604772348081, 0.0006642449935550414, 0.0005358004184743606, 0.0005557416662397963, 0.0009094695638323466, 0.0007311399144576036, 0.000546238154704538, 0.0005202555571413338, 0.00042031210967143415, 0.0006003737130992044, 0.0005259880918751346, 0.00042923803240882267, 0.0006233463999148973, 0.000724996381945241, 0.0005291126806653855, 0.0008754680570531975, 0.0006686913331494879, 0.0004713989744418306, 0.0006055504555275621, 0.0006336126979218443, 0.0005248175918993649, 0.0005513290418802927, 0.0005199926179425536, 0.00041777756028307843, 0.0005025447339786061, 0.00046663624668637514, 0.000634969601698909, 0.0005365304000055559, 0.00047046711657161485, 0.0004207598222025706, 0.00045967168406294115, 0.0004335034871972696, 0.0004999583191001571, 0.00043363650579822063, 0.00037576469369989104, 0.0005143980620392042, 0.0005254332975313292, 0.000450604866027849, 0.0005460036256068001, 0.0003720702650987868, 0.0005489602447774293, 0.00043061648290553293, 0.0004949451787298702, 0.0005167854515116211, 0.00043446298499117656, 0.00039405336549886533, 0.0004087855651584696, 0.000564204488944815, 0.0003807909996991336, 0.0003676897657328536, 0.0004853046176164391, 0.0006559638988037764, 0.00039159870584359175, 0.000373618749091957, 0.0006871811568716352, 0.00045620521826651494, 0.00036052363456555843, 0.00042856947820482693, 0.0004373121207416547, 0.00040179207873270725, 0.00026808931541790035, 0.00045239149913468504, 0.000331914060847521, 0.0005415632553249901, 0.0003449834920764476, 0.00036257894375909844, 0.0003397071581406963, 0.0006436967719023806, 0.00040755195326165166, 0.00047829421383831775, 0.000660453493419557, 0.0004535355121444646, 0.000560613327592095, 0.0005665064009595466, 0.0005735587343536836, 0.0003107436445413261, 0.0005191505085024031, 0.0005754717032143943, 0.0007693165836635818, 0.0005258883412410031, 0.00038035880832891787, 0.0004262898436469615, 0.0006536905768624119, 0.0006397415453432041, 0.0004880138281609847, 0.0004800756313516921, 0.0006205700535926329, 0.0006069726346178298, 0.00036399490321136727, 0.0002968230902240033, 0.0002764419493078944, 0.00035815611565183234, 0.0005423795570876662, 0.0003367824143246521, 0.00034701348096214003, 0.0005368335272741131, 0.00046918058878775437, 0.0004446731431868103, 0.0004249923601336739, 0.00041480600753168284, 0.0006018296115081173, 0.0003973762550194131, 0.0006499033393400257, 0.00041656497901247197, 0.0003813057582040374, 0.0004207695875613734, 0.0004215721114709186, 0.0005574684629029576, 0.0002679210850602646, 0.000616808517849457, 0.00025922200221102366, 0.00045346897403225655, 0.0004030904030297204, 0.00044543756473738454, 0.00031769004666537976, 0.00037256729531970784, 0.0005093054947748336, 0.00040933240028859165, 0.00037974923942128203, 0.00046189062555397696, 0.0003731315422117252, 0.0004936209558536477, 0.0006444308690785032, 0.00048136239342540927, 0.0003095133767670715, 0.000403548052853841, 0.0006550167366827446, 0.00042146965448090664, 0.0005012537997663325, 0.0005190022192895899, 0.0002900673365537794, 0.0005026306074225281, 0.00033442308779330543, 0.0004883612219466065, 0.00042280113702186395, 0.0005437730354966132, 0.0006731352358944647, 0.000448251486435812, 0.0006258461635003343, 0.00042840935892991225, 0.000576270013525013, 0.00045132966693567394, 0.0006022416830985218, 0.00049049356579951, 0.0006120329903907601, 0.0006529683969023296, 0.0004419092613434079, 0.0005312314572828048, 0.00043129393269441055, 0.000422317857581804, 0.0005480801030684327, 0.0004411601392852599, 0.0006731102878547496, 0.0004119426002687433, 0.00045024709502428377, 0.00042709092929251656, 0.00040948789719172016, 0.0003398565570060274, 0.0003845322248152997, 0.00047152797123069327, 0.00041114212150778623, 0.0003397436454720945, 0.00029567043471113216, 0.00039188726438198267, 0.0003059522774950285, 0.00045620046255779386, 0.000467936758150404, 0.0004929413201914111, 0.0007832594069950296, 0.000516140086062888, 0.0005330119591229354, 0.0003454792843727788, 0.00045731466064220105, 0.00042172781337572257, 0.0006090727010610918, 0.0003073732909944918, 0.00036471896145291147, 0.0005414954336950957, 0.0004492996753100266, 0.0004535469994865691, 0.0004136127540268304, 0.0006289127645170337, 0.0005272803964576132, 0.0004404272663273179, 0.00033821579368779214, 0.0006189311267387395, 0.00047210598795622703, 0.0004886935959655895, 0.00035185335938686137, 0.0003706799052710119, 0.0003007776015469157, 0.00029921541258370453, 0.000439634178474387, 0.0005110936973144877, 0.0004882532611992393, 0.0006808432983690703, 0.0002964695443241863, 0.00035759299769109754, 0.0003089099646429149, 0.0002841366738138441, 0.00021854666646748788, 0.0003809941903202241, 0.0005688158673022535, 0.0003511837533226587, 0.0004717843208513291, 0.0004925830517070407, 0.0004403429770226837, 0.0003801239589052462, 0.0006153773149637848, 0.0005270763806553895, 0.0003006991028131653, 0.0003921607710790292, 0.0004132108836224733, 0.0005348365908133994, 0.0002728746082295914, 0.00049402599355599, 0.0003789954465433026, 0.00045787374436858405, 0.0002851354757440373, 0.00035444087822351954, 0.0003233713237526125, 0.00037487243159501157, 0.0003867891212917749, 0.00036107993317201795, 0.00029441625507872445, 0.0005050810816415462, 0.00032504393962772454, 0.0004448701835222784, 0.0002855173873861929, 0.0004224531851990574, 0.00043750649846220933, 0.0003704892547731597, 0.00045452330973751794, 0.00043961255004854163, 0.00040827948927823766, 0.000422460928734042, 0.0003183919145411181, 0.0006653448995553004, 0.00043549060669628037, 0.0005481136891792204, 0.0003912603448355085, 0.0005059533877405561, 0.00046716500373021163, 0.00039115457688729456, 0.00039347273834706113, 0.0004131289871145013, 0.0004459458992885149, 0.0005573205225652147, 0.0007060918756009044, 0.0004494771725471794, 0.0005559652269613699, 0.0005670515201211797, 0.000561309400953513, 0.0003511716590277144, 0.0005929243751951922, 0.0005217628327200017, 0.00042448035289325897, 0.00044061762347046213, 0.0003856819425581652, 0.0004055952436097095, 0.0004749678835373803, 0.00029508109225319916, 0.0005228579327249477, 0.0002475964468105893, 0.00032316026656839183, 0.0003809543582441859, 0.0002806608871252322, 0.0003175512514659972, 0.000260181627628654, 0.0004325240595938548, 0.0004224839074670211, 0.0004993545531047371, 0.0004316336120165526, 0.00031972101367527686, 0.00032618598166172976, 0.00034577484282717613, 0.0002597806332104683, 0.00039102617288927895, 0.0003990945397715708, 0.0004618556786924347, 0.00038107162501203304, 0.00029776208741014637, 0.0001845195666999866, 0.0003614627774258143, 0.0003273078223268215, 0.0003302648047288888, 0.00036948560130760274, 0.000299979813272421, 0.0002912897647786082, 0.0003495184532581571, 0.00032848443571764424, 0.0004241212186408496, 0.00030366590774691166, 0.00022835738873675852, 0.0003855001486186025, 0.00032492950007558007, 0.00031319387258451736, 0.00021577878290403942, 0.0003005061342829425, 0.00037751860274134737, 0.0002485373766002977, 0.00036463527247768867, 0.00042474900496808056, 0.00033803913658162453, 0.0003033801333129238, 0.0002716134905731877, 0.000511047218904727, 0.0003256095795514568, 0.0002469332952091703, 0.0003443193707768145, 0.000313991434315736, 0.0002522514859295028, 0.00029840778976694666, 0.0002751151756134129, 0.0004059936451327226, 0.00032480510666262996, 0.00025032644310745604, 0.00037468042094636995, 0.0002777517916159948, 0.0002659050112203637, 0.00031122303958187674, 0.000531913054104687, 0.00032682364842842457, 0.00023320202130750506, 0.0003680766002440565, 0.00026536987989386594, 0.0003970370641794652, 0.0002859177001131425, 0.0002986985698994275, 0.00024788704438209736, 0.00024489282150415824, 0.00021732894430846682, 0.00030945694223965707, 0.00031636570931976073, 0.00028469600916613885, 0.0001979665163157348, 0.000414822524778062, 0.00043569148544607823, 0.0003748253302114216, 0.0002750561747559346, 0.0003254518593072681, 0.00020767756581924356, 0.0002967398148362486, 0.00035728958477230496, 0.0002992515112289624, 0.0002956488480748675, 0.00040097962043135645, 0.00029124176306912094, 0.00024964270438071, 0.00019055253968657993, 0.0002788792385063422, 0.0003075722969919555, 0.0002928493280075785, 0.00022925398041535451, 0.0002081116376996361, 0.00024948525987427355, 0.000265807910642771, 0.00023779330120501983, 0.00030381626734719353, 0.0002936606557454269, 0.00019575174162307133, 0.00026869249895941107, 0.00023548206862787996, 0.00011537327119590743, 0.00026412572511416406, 0.0003376099773373179, 0.0002255569903922981, 0.0002944159305142766, 0.0002405587528073353, 0.0002244849788337343, 0.0003290946503303946, 0.00029457716742032063, 0.00022055982794927584, 0.00027725681029573744, 0.0002502937184041492, 0.00020329321319763254, 0.00030174298074968814, 0.000284455002589722, 0.00020243758575565587, 0.0003174987215677848, 0.00029210032242780575, 0.00018423128834781983, 0.00025636765883059204, 0.00018252101915258858, 0.0002840220082610342, 0.00020486810211951023, 0.0002518792337254667, 0.0002120675691301654, 0.0003470961274934116, 0.00019569877031315165, 0.00033323662764857953, 0.0002958622913745567, 0.0001925134596068273, 0.0002686893426673881, 0.00035228157884554346, 0.00026030804355099457, 0.00022483711214554814, 0.00023465044615908595, 0.00022853158627030053, 0.0002110779602526217, 0.00023950778120855794, 0.0002818747238253722, 0.00026751855770966644, 0.0002631616609855633, 0.0001885803808646862, 0.00019524747258131125, 0.00025936551780782934, 0.0003376486450090836, 0.0002479447110411056, 0.00017319088524515183, 0.0002795617804653861, 0.0003102075729386191, 0.00025190899474660455, 0.00024504568499038673, 0.0003620130112537803, 0.0003326602475116219, 0.00031983680373538423, 0.00028734583948557946, 0.00032533479583755307, 0.0002911900505229807, 0.00028446546519925555, 0.00024111131437901012, 0.0002897401105110021, 0.00021051618559906566, 0.00037548920770868007, 0.0002431083003639512, 0.00021389752704320013, 0.00022792305648008655, 0.0002869343052816805, 0.0001981826973381357, 0.0001704432559424016, 0.00023796455578966815, 0.0002359427261614674, 0.0002381093852612591, 0.00024562021726377554, 0.00018512835139235053, 0.00017336786567622185, 0.00024100121202257194, 0.00023176942995057611, 0.0001874669078459556, 0.00027395975194745276, 0.0001680582288039338, 0.00017570367072261006, 0.00019541723945497213, 0.00018010002428715374, 0.0001897290352978606, 0.00016817138214301466, 0.00025451575670563123, 0.0002847692183210397, 0.00033091829054380156, 0.00023306379035423178, 0.0001828649387713024, 0.00020757021676056503, 0.00026518168594651267, 0.00021610185451989317, 0.00021826205169268035, 0.00024105068547092856, 0.000344731564270044, 0.00020213878263995518, 0.000244529819230465, 0.0001979690610480027, 0.00025989221707287065, 0.0002974483601452429, 0.0002151670099190506, 0.00022523334453752178, 0.00023762402315798164, 0.0002930491351919757, 0.00022867142448134084, 0.00025002124237293277, 0.0002753901311101647, 0.0003540407852520143, 0.00017190096628962948, 0.00028942487306916534, 0.00015523409372085058, 0.0002090317645970913, 0.00027210756120902164, 0.0001478425649841314, 0.00017244330990291923, 0.0002702477928401751, 0.00025977797004362723, 0.00012504464827140497, 0.0002726288343192951, 0.0002085725479782413, 0.0001841986377096375, 0.00021989335672535483, 0.00022805817107684348, 0.00017003508471394218, 0.00017009827370478956, 0.0002625231006709807, 0.0002665453856800722, 0.00027496533233909684, 0.0002661042282914355, 0.00017327903214450354, 0.00014672930350621697, 0.00022817544951203356, 0.0001868427416029867, 0.00017459417390116485, 0.0002867024826105179, 0.00023639612986409636, 0.00023347319205453083, 0.0001959355404195429, 0.000263297537535711, 0.00018071363214827593, 9.387928896854497e-05, 0.00018258698844419603, 0.0001885908505985565, 0.0001849902448008648, 0.00016608223354105795, 0.00026167554199015626, 0.00023155473698426718, 0.0003281135456728293, 9.527961431074353e-05, 0.00020109479038319815, 0.00017628851406858634, 0.00014438973381634412, 0.00024144887014368685, 0.0002274270420417827, 0.00024031314004038348, 0.00025662380357141014, 0.0002008560777254023, 0.00026242685085976655, 0.00014815764697927235, 0.00010269488179658127, 0.00017489026560318373, 0.0002459734872185235, 0.00028876438998865406, 0.000196507386566473, 0.0002311073220034477, 0.00015720180655831305, 0.0002101297519077313, 0.0002091477724463717, 0.00018873885894196476, 0.0002166468507248559, 0.00018157982118224557, 0.0002185346422995213, 0.00023221088413800223, 0.0002539024322359364, 0.00021956722664615317, 0.00024246105659966676, 0.0002495981762253184, 0.00022509437673891335, 0.00015573253051765336, 0.00023411293864627195, 0.00023340483694025106, 0.00021612631573049331, 0.00019573968838497492, 0.00016116420829168622, 0.00025904733471999097, 0.00020222457628363364, 0.0002143862513568332, 0.0001643780423815687, 0.00016139284571003486, 0.00025344168356277434, 0.00023494774201047848, 0.0001635413525048447, 0.0002676861484567339, 0.00020601121237741744, 0.00017857257852737244, 0.00019185863758683827, 0.0001220340089444896, 0.00013621541067863148, 0.00012804327818002908, 0.0001495734488736312, 0.00024318885403522546, 0.00020648507769505453, 0.00020633290515390521, 0.0001667558275760301, 0.0002083118523467557, 0.00016342298122486203, 0.00012813711559785064, 0.0001566070212847317, 0.00018741487632765164, 0.00020808879612569116, 0.00014353262917787493, 0.00022804979632456442, 0.00014300607888492907, 0.0001729532121395174, 0.00020430105696028452, 0.0001445171417057655, 0.00015035612236190797, 0.00012878577517048522, 0.00023820279647189865, 0.00011817647657500518, 0.0001888491194360432, 0.00015458205398737293, 0.00017275648025066458, 0.00013333220454369112, 0.00015440545146641182, 0.00015958132843417566, 0.0001910874170993502, 9.86241359547201e-05, 0.00013704539248960072, 7.339303980283919e-05, 0.00014046689444022664, 0.00014459084177531386, 0.00016770006695149544, 0.00017308368640588546, 0.00013598090600417992, 0.0001456009904136402, 0.0001525686169020184, 0.0001780701412577771, 0.00014632040196115113, 0.0001363248104423601, 0.0001648594786632535, 0.0001647247466185663, 0.00017644825066861345, 0.00015232941082593532, 0.00018327423253320534, 0.00021197500591095192, 0.0001212820631929275, 0.00017280407702184147, 0.00010853725428448553, 0.0001248584870620727, 0.00019806700793780784, 0.0001182593704723937, 0.0001843193037752462, 0.00010188686350597517, 0.00019147334169802662, 0.00016737659197380066, 0.00017653710572589586, 0.00013232804179981393, 0.0002487550819529246, 0.00016096441495796313, 0.00017160573265711084, 9.279681373940471e-05, 0.00013838534134229876, 0.00019415616796463698, 0.00013796085054117873, 0.00013664706915950678, 0.00016656681407391078, 0.00016364577075752095, 0.00017214721217329309, 0.00020560874335011532, 0.00021750249151794473, 0.00014945508932983292, 0.0001651467926448113, 0.00016840875082117947, 0.00017438682510611582, 0.00013156814904346188, 0.00013123373104169034, 0.00010873048652781566, 0.00017676411970732645, 0.0001240197465692498, 0.0001609282897683544, 0.00016936634354034757, 0.0001949604789445987, 0.00016783286035912908, 0.0001939904046724299, 0.00012389956272234635, 0.0001244820554125515, 0.00010807502479161448, 0.00010887032039061624, 0.00013691846026182126, 8.445628093304588e-05, 0.00010710082253861163, 0.00018516968314863085, 0.00013176116553960014, 0.00016639439576077668, 0.00011574171469510529, 0.0001525152565276968, 0.00017473299491545239, 0.00018629960649881676, 0.00014563356236194897, 0.00010691126019057043, 8.637082302340002e-05, 0.00022919113545321617, 0.0001821019693922691, 0.0001350642993167279, 0.00020915680746506327, 0.0001363636066125861, 0.00018979517135425935, 0.00022892694774238412, 0.0001276593657216188, 0.00010711857804751957, 0.00013731133645952058, 9.307550156312602e-05, 0.00011677750975981033, 0.0001208609231097233, 0.00020073167201437348, 0.00014325387435175783, 0.00011794334857303067, 0.00012287410170952462, 0.00010729276040467352, 0.00011722918538998627, 0.00010975551737027564, 0.000129527772728642, 0.00010664131362443795, 0.00019032482529195168, 0.00018086581449270245, 0.00019399373932811243, 9.343004341279675e-05, 0.00011829263920916417, 0.0001719638213008877, 0.00013904208847032688, 0.00014787631575508434, 9.235184883221e-05, 9.295778165256453e-05, 0.00010087574078928263, 0.00016818932356207753, 0.00013221455018047826, 0.00011054998738693517, 0.0001464409537374332, 9.519993022721182e-05, 0.00016507835479273014, 0.00016184703176000498, 9.266202732052169e-05, 0.00012104713893186735, 0.00016139965804802062, 0.00014050304040266764, 0.00015640924111602614, 0.00015536017480502105, 9.599871429380672e-05, 0.00013662534274782058, 0.0001268590077298043, 0.0001342095617449413, 0.00014317917371997526, 0.0001098708891628564, 0.00010686953551660659, 0.00012674119839709843, 0.0001234399974817694, 0.00015800725314162834, 0.00013320691466063128, 0.00011364112881450132, 0.00013622496225925015, 7.730119159008537e-05, 9.165487642514405e-05, 0.00011307056496071104, 9.514735154687466e-05, 8.212591403998841e-05, 0.00010503838790872865, 8.942934427468923e-05, 9.788477119358405e-05, 0.000145683296869173, 0.00011496292743441323, 0.00010156023965812461, 9.369507110105514e-05, 0.00012669803169472452, 0.00011895591411600123, 8.629711282995931e-05, 7.88258439776545e-05, 7.202906972648648e-05, 8.348238855511782e-05, 9.128321966133922e-05, 7.896825014499903e-05, 0.00018630896818066866, 9.707045898969116e-05, 0.00013738847171079736, 0.0001165682062385755, 7.1723921010436e-05, 0.00011275878564682564, 7.603996944652435e-05, 5.170943013988566e-05, 9.853597613185975e-05, 8.247878043236463e-05, 7.556163137862221e-05, 9.046552088266642e-05, 8.695624106106022e-05, 5.991103121612335e-05, 0.00012039391900416588, 9.970472542204896e-05, 7.662392214882819e-05, 0.00014576833993518022, 0.0001203396098520702, 0.00015268626442368108, 0.0001013340768208369, 8.302236456870122e-05, 0.00011005212476672634, 0.00011334557058432198, 0.00010389727218806093, 7.326032251835508e-05, 9.205599070275257e-05, 0.0001174381448211868, 0.00011946827445530264, 5.1042916914035614e-05, 0.0001043049400003855, 0.00011612167916020606, 0.00010993941803969244, 0.0001248650245654219, 0.0001218796515685663, 9.46738050926915e-05, 8.658960877300066e-05, 0.0001003981762700506, 8.838581618747979e-05, 9.397532588077426e-05, 0.00015336739820281484, 8.47272152724622e-05, 0.0001474470919034011, 0.00012054974134909652, 8.859537588992905e-05, 8.740935565185915e-05, 0.0001190701948735567, 9.516299167465294e-05, 0.00011771490989972987, 0.00010950461498423095, 0.00014687956580827896, 0.00010461334315296746, 0.0001590980422788161, 0.00013268535937536, 0.00014991468117895443, 0.00011104334735960529, 0.00012673378050397628, 0.000150683822513071, 0.00015966554787633777, 0.000147708723191948, 0.00013550353808650578, 0.00010705056523378981, 0.00011210214077564435, 0.00012568554333628178, 0.00016674786232537093, 0.00012328001516792226, 0.0001319089114703143, 0.0001428337777843675, 0.00011243909935877899, 0.00013951570916144367, 0.0001234792488585718, 0.00013841492868889253, 0.00014533274151668437, 6.238115856274136e-05, 0.00012817913237408014, 0.00011881490498931323, 0.000108301371833147, 8.523428879213744e-05, 8.269441200284511e-05, 0.00011714329788232291, 0.0001378976632356967, 9.551234006960918e-05, 0.00011533908683717303, 8.439437137566e-05, 9.94540484044897e-05, 0.0001207986648926663, 7.966173194202122e-05, 0.0001151383176828635, 8.335261170553589e-05, 0.00010045027834198726, 0.0001109499428322475, 8.729378724685948e-05, 6.97230531014603e-05, 7.397721313789951e-05, 7.99946173105451e-05, 6.389047542345835e-05, 0.00016354182926542923, 9.865637564704084e-05, 6.919739892215171e-05, 0.0001359979320019081, 0.0001066896530376611, 0.00011055692213930578, 9.921984517940834e-05, 6.701192218905422e-05, 0.0001024602872411892, 0.00012043517184263097, 9.20837222304022e-05, 0.00017120937105132838, 9.352331553361622e-05, 0.00011500650070063032, 9.680205456219837e-05, 8.519163924188239e-05, 0.00012357734865086747, 7.842844118999281e-05, 8.694687080364548e-05, 7.786015099846712e-05, 9.791863762356909e-05, 8.179991026529877e-05, 7.397289879560259e-05, 0.00013630237329386978, 0.00014580115008380875, 0.00010140792588502522, 9.228528455614028e-05, 9.747610517578999e-05, 8.122789551300589e-05, 9.220866583289324e-05, 7.51187101656164e-05, 7.25009661575879e-05, 8.883671689870587e-05, 5.7184506915062924e-05, 0.00010070345426648729, 6.818316996167049e-05, 7.501251186263217e-05, 0.00010315624993115162, 0.000131026210815608, 0.00011756784240719875, 0.00013353544440940858, 9.903931833670549e-05, 8.164858078731394e-05, 0.00010850818392418376, 8.510521484877128e-05, 0.0001402800153823657, 0.0001022331857572678, 7.623280251316879e-05, 9.982282451615654e-05, 8.906762638803246e-05, 0.00017130268040534323, 0.0001301658800679747, 9.996087819240967e-05, 9.408051906276283e-05, 0.00010928750743062155, 0.00011278620982802265, 7.716625633998224e-05, 0.00010517793969969921, 0.00014412097292483339, 0.00010845955125836467, 0.00010567078854745494, 0.00012205191041908871, 5.90692267744533e-05, 6.977741302557467e-05, 0.00011705963885351147, 0.00011495022339603567, 8.716951955733481e-05, 8.91992434342243e-05, 0.0001318108787299239, 0.0001396267199814886, 0.00016470406248434035, 0.00010107375924434498, 0.00014872988467006293, 0.00010156221098577548, 0.00016059989214272245, 6.414507761519352e-05, 7.077789397566841e-05, 6.049253613110909e-05, 0.00012269602147821351, 0.0001384823522773328, 0.00010804819792823556, 9.024052278128852e-05, 8.667194741207494e-05, 9.276537653918657e-05, 8.343624400004058e-05, 8.785364562861099e-05, 0.00010752264467777766, 0.00011067473224831793, 9.46577327271925e-05, 9.082990311416191e-05, 9.243640192898083e-05, 9.216177356325764e-05, 6.306303493046799e-05, 7.350354531630314e-05, 8.33326969851602e-05, 0.0001471302523726865, 0.0001525050074497967, 0.00013659046386211982, 9.105094832289568e-05, 0.0001113913174264433, 7.710359894228942e-05, 0.0001298897567587077, 0.0001003212972257267, 9.033044129184829e-05, 0.0001164913111057125, 0.00011158194971809308, 9.130132456030939e-05, 6.361157541792855e-05, 8.327433108041459e-05, 8.029528450404298e-05, 9.105226333849914e-05, 8.143714933942991e-05, 0.00012906463568854583, 7.576013553509598e-05, 0.00010075866493195418, 8.117498427237178e-05, 7.887038584882234e-05, 8.333296810168945e-05, 0.00012195999285765841, 9.031829938680605e-05, 7.323100621013044e-05, 7.675464497361175e-05, 9.878212093838484e-05, 9.838628653157757e-05, 9.76695074287444e-05, 7.30390634487374e-05, 6.411496008851709e-05, 7.671426411021242e-05, 7.517626211966336e-05, 5.791576285873177e-05, 7.58555917101741e-05, 7.965173243786273e-05, 7.402155610325351e-05, 9.361743735570601e-05, 8.181551374179401e-05, 9.102385134117853e-05, 5.8542083078456105e-05, 7.081206468825803e-05, 7.830493164552165e-05, 5.833419958692638e-05, 5.9929084486022956e-05, 7.978515725393266e-05, 6.645657159402774e-05, 5.405118992794327e-05, 7.698115942142379e-05, 0.00010639470851981603, 7.469387214034593e-05, 9.042162552995405e-05, 4.693040470492925e-05, 0.00010017006784898291, 6.707079225175656e-05, 6.943650954556163e-05, 7.755995429554399e-05, 5.775988195986165e-05, 0.00010786928625887203, 7.884157080527253e-05, 8.47699303827275e-05, 7.499679300120349e-05, 8.291904811696238e-05, 7.325565003537578e-05, 5.383684606729938e-05, 6.133288472859639e-05, 6.642390546638272e-05, 6.559874409749164e-05, 6.123476621590914e-05, 9.636005610203096e-05, 5.9821687882397306e-05, 7.449597264208278e-05, 8.010548373173526e-05, 6.182562357873881e-05, 5.7108841284328784e-05, 7.669249299643203e-05, 5.987521805784341e-05, 6.112289285207617e-05, 8.300745101214834e-05, 7.043941239833141e-05, 6.999515586676392e-05, 5.5819328411560555e-05, 4.7893236833215146e-05, 7.027429080995049e-05, 7.426523616392051e-05, 6.939041666788272e-05, 5.409786601585162e-05, 5.475951954761894e-05, 7.351786890835276e-05, 6.195682421498347e-05, 6.94565377006824e-05, 4.720273415242928e-05, 5.9294206912665406e-05, 6.750014711286048e-05, 5.347730123364424e-05, 7.793133845741166e-05, 5.4730939255242396e-05, 7.482011979335432e-05, 7.231558138998196e-05, 8.768721349191566e-05, 6.60047213515147e-05, 5.511168987791705e-05, 5.719496161397137e-05, 5.043913317243064e-05, 4.3234609591035514e-05, 5.3338441914521344e-05, 5.78127922439429e-05, 4.634499532603962e-05, 3.847031286253127e-05, 6.0492096144671715e-05, 6.571375381858415e-05, 5.6568271874321326e-05, 3.820564972204443e-05, 5.2503179201365764e-05, 7.560941603202636e-05, 6.865923342419659e-05, 6.419627624453154e-05, 8.524594236333388e-05, 5.317838639269257e-05, 7.769088543963792e-05, 7.184127813189292e-05, 5.033962625389336e-05, 3.831926325359026e-05, 5.667367501481941e-05, 5.931545710773094e-05, 3.932991595659797e-05, 3.896005218805991e-05, 4.4737154438282816e-05, 6.608383258023324e-05, 4.8154967959061124e-05, 4.014601671533292e-05, 6.583757686908355e-05, 4.224605247477883e-05, 5.292656837118152e-05, 8.32702674012869e-05, 5.954751031240544e-05, 7.907336389818901e-05, 8.532540975826493e-05, 4.95351913677883e-05, 5.251555375634473e-05, 7.728328365668599e-05, 7.04045269460047e-05, 7.957978133769e-05, 5.8833167829355296e-05, 5.459193312707636e-05, 6.673503130179562e-05, 6.331531866535101e-05, 7.026852427165441e-05, 4.384801540699691e-05, 7.294983631501817e-05, 5.8654827715388564e-05, 6.592897661087024e-05, 8.883757702118496e-05, 5.7720084339727574e-05, 6.200163621865193e-05, 7.66050252676364e-05, 5.657458578414263e-05, 3.8631075972719154e-05, 8.462258564735113e-05, 5.575404159100683e-05, 7.393521277122771e-05, 5.3993068526717195e-05, 4.6011276958451e-05, 6.13762562045638e-05, 5.389092424465195e-05, 4.853339039188803e-05, 5.231379865824156e-05, 5.144088720741566e-05, 5.4331615975842265e-05, 3.403573383244807e-05, 6.910620361803011e-05, 4.4902749250085536e-05, 5.5048509374386257e-05, 5.2282078342405695e-05, 4.665114259494255e-05, 6.305789132446449e-05, 4.953784253981545e-05, 6.766624128341679e-05, 7.222959228080852e-05, 5.595737477343382e-05, 7.340753261117496e-05, 4.957801886593051e-05, 4.315428919323221e-05, 9.905266833573e-05, 6.329044543076165e-05, 4.109451593472449e-05, 5.14421803832461e-05, 3.778856683415996e-05, 7.844018458843476e-05, 5.356167740761719e-05, 4.884362633528165e-05, 4.2904286733665485e-05, 4.3845488095213096e-05, 6.762108658282833e-05, 5.7786363224437065e-05, 6.129755556541166e-05, 0.0001000314019395903, 6.0954761302635813e-05, 5.465020955186084e-05, 4.6704735186411036e-05, 6.187433245721087e-05, 6.908447564324279e-05, 8.346592719461152e-05, 5.928675927095361e-05, 4.440914988719382e-05, 6.627580001702333e-05, 4.688378428551645e-05, 5.548153539925401e-05, 5.3876811015678345e-05, 5.443230748576756e-05, 8.374549021051613e-05, 8.358771756609272e-05, 6.0288626795342736e-05, 4.995853995531611e-05, 6.226837834342826e-05, 3.570689369792457e-05, 6.700767232766559e-05, 6.99565443190661e-05, 4.7077932713565694e-05, 3.997017722130922e-05, 6.613238696336449e-05, 6.917747815300352e-05, 6.693844803643573e-05, 6.729944912598974e-05, 4.595217986354709e-05, 5.117315539242208e-05, 6.294898325484223e-05, 5.745701952698703e-05, 7.141539040061077e-05, 6.279403028265062e-05, 4.7403588478799585e-05, 4.9845871721940944e-05, 5.219193585341155e-05, 6.793667026229554e-05, 3.908205944407363e-05, 9.119771091981946e-05, 5.923789283344934e-05, 2.688887964768878e-05, 4.4402717153600136e-05, 5.921232542813414e-05, 6.456071214165236e-05, 5.1448544667383135e-05, 4.142207166772222e-05, 3.621828749923307e-05, 5.63160925406675e-05, 6.304150970153843e-05, 7.362183845210534e-05, 7.320265751377203e-05, 5.222640856992531e-05, 6.388475456234117e-05, 7.308279537325676e-05, 5.2993268441220566e-05, 5.604248142112362e-05, 5.793414413705725e-05, 8.446192038548796e-05, 9.325157875311948e-05, 7.506707253548648e-05, 5.061616344962909e-05, 5.7768907687979066e-05, 7.61692640785586e-05, 8.120029030083283e-05, 4.828116405932192e-05, 3.4397950719336376e-05, 3.05773437876189e-05, 6.966639764175219e-05, 6.30605579231249e-05, 5.9147029681654386e-05, 6.52095371518874e-05, 5.501741332463569e-05, 5.2682425104199985e-05, 3.5231585303693643e-05, 3.660658477166396e-05, 6.065988169257742e-05, 5.6776506401060625e-05, 5.9429695813527215e-05, 7.007242754276148e-05, 5.0156381611731234e-05, 5.8388562027227354e-05, 4.847540940552432e-05, 5.7381171281775376e-05, 5.4690802960382666e-05, 5.887265470273762e-05, 6.225713892882082e-05, 4.813979793395828e-05, 4.4176049463045786e-05, 5.57505948001967e-05, 5.0076834127436616e-05, 5.221018901225464e-05, 4.0415451936860966e-05, 3.190124005412903e-05, 6.718216551967558e-05, 4.039565461384076e-05, 5.225149052401347e-05, 5.6644502390499734e-05, 4.8734097054858506e-05, 4.524146754175916e-05, 4.869436522900108e-05, 3.469642323341169e-05, 6.093994959962242e-05, 2.9555345566421036e-05, 3.909707295239169e-05, 4.615536934052112e-05, 6.172133604328375e-05, 4.4519565368939916e-05, 3.2686381285690424e-05, 4.853118736971965e-05, 3.990865462668494e-05, 5.287961176113099e-05, 4.9321847606552746e-05, 4.815359814976945e-05, 3.8881262755199776e-05, 3.945829276409602e-05, 4.42403891168622e-05, 5.4124280914553865e-05, 5.366654844590257e-05, 3.613736269070717e-05, 6.629191159707572e-05, 5.480657573011915e-05, 4.346498572018003e-05, 4.650975660207506e-05, 4.061242699210367e-05, 3.609822261741065e-05, 4.6800623975616415e-05, 2.984904232838926e-05, 4.822018086790681e-05, 3.145259710587134e-05, 3.8451504767785894e-05, 4.220726132080787e-05, 4.880991736957441e-05, 3.231043557328413e-05, 4.29080385478357e-05, 3.17689557583028e-05, 3.372219423507197e-05, 3.315855743106216e-05, 3.733391488151364e-05, 4.499879432342335e-05, 3.867048908570337e-05, 2.9299973079131817e-05, 3.415325910205988e-05, 3.39699692465249e-05, 4.154305716145381e-05, 2.4384852209467317e-05, 4.1097390445903476e-05, 2.9344970988015468e-05, 3.698607204389049e-05, 4.189778614980541e-05, 3.4080439643497754e-05, 3.5615526310090064e-05, 3.3681329108449116e-05, 4.101148557300175e-05, 4.228184391931079e-05, 2.716223623171997e-05, 3.864347170176389e-05, 2.6887877082098683e-05, 3.610116405046112e-05, 5.521230712280617e-05, 3.4922023666263206e-05, 4.2434377190488066e-05, 3.4750028914602427e-05, 4.220756705182488e-05, 3.373864456230361e-05, 4.0728565262549564e-05, 4.241081902928763e-05, 4.610261264861642e-05, 2.853790628188165e-05, 3.585958905392351e-05, 4.924522897832808e-05, 3.5395337906632934e-05, 2.9974174225901814e-05, 3.374402869956503e-05, 3.8797558780024985e-05, 2.6210234798179138e-05, 5.038160577239475e-05, 5.6546565478886424e-05, 3.631581472526666e-05, 3.6969227273781586e-05, 2.3535080933101506e-05, 3.400552437236182e-05, 5.287305148569583e-05, 4.693313708931011e-05, 4.3635898366692606e-05, 4.7422081656755814e-05, 2.9432613890585446e-05, 4.4069983387282305e-05, 3.760841095666165e-05, 4.858841966215351e-05, 3.67800491349714e-05, 3.123157778169646e-05, 3.257218878789773e-05, 3.713682340311776e-05, 3.99464689703183e-05, 5.889397198114815e-05, 4.499663876541943e-05, 4.36770296462759e-05, 3.2672450304489424e-05, 3.716737088475442e-05, 3.4604613241914466e-05, 3.954910826842953e-05, 4.3072372755958265e-05, 3.460536523559283e-05, 3.8308547788600253e-05, 3.6454221056124686e-05, 3.1794376781645096e-05, 3.442211004202462e-05, 3.2268830478323057e-05, 4.677872329605732e-05, 2.841035628903443e-05, 4.961094801858051e-05, 4.9723725575284796e-05, 4.047603567079292e-05, 4.40060724600976e-05, 2.496276553703139e-05, 4.333973524457478e-05, 5.07072671506567e-05, 3.144219903574585e-05, 3.0162812041438574e-05, 1.9252552294744404e-05, 3.0337335000409877e-05, 4.074500977831483e-05, 3.1498365769337875e-05, 2.7271115677301244e-05, 4.409834921983572e-05, 2.963372268892921e-05, 3.0246552155853745e-05, 2.8644511956654677e-05, 2.2562466680093785e-05, 3.395798492620203e-05, 3.549017480762703e-05, 2.7990116706794465e-05, 3.238580670078936e-05, 3.0637534093917853e-05, 4.1476672787721964e-05, 2.6120751155291773e-05, 3.844593488978339e-05, 2.8886182513242974e-05, 3.479129207404231e-05, 2.5905772866334967e-05, 2.709769971964446e-05, 2.7191216995012736e-05, 4.4408645225388186e-05, 3.8451470688447035e-05, 3.2118377665845076e-05, 3.626583748072112e-05, 3.658187243974959e-05, 4.331860459004929e-05, 3.540022005472408e-05, 3.353972856719455e-05, 3.288205583200751e-05, 1.1953104156674888e-05, 3.148870839848039e-05, 3.969658438356643e-05, 2.6180609342870768e-05, 4.530414328295661e-05, 2.3772084919772652e-05, 3.157687943671843e-05, 3.0234759042195876e-05, 2.7245387006578427e-05, 3.4628164664546756e-05, 3.473441396916787e-05, 3.83064033158844e-05, 4.247432239020487e-05, 4.1559770246509416e-05, 4.021899696210017e-05, 2.835131157359147e-05, 2.3111740301646573e-05, 1.818869279870426e-05]\n"
     ]
    }
   ],
   "source": [
    "print it\n",
    "f1 = open('FPTD.dat','w')\n",
    "\n",
    "for i in range(len(it)):\n",
    "    print >>f1, i*tau, it[i]\n",
    "    \n",
    "f1.close()"
   ]
  },
  {
   "cell_type": "code",
   "execution_count": 3,
   "metadata": {},
   "outputs": [
    {
     "data": {
      "text/plain": [
       "[<matplotlib.lines.Line2D at 0x7fbbdc98ce90>]"
      ]
     },
     "execution_count": 3,
     "metadata": {},
     "output_type": "execute_result"
    },
    {
     "data": {
      "image/png": "[encoded data removed]",
      "text/plain": [
       "<Figure size 432x288 with 1 Axes>"
      ]
     },
     "metadata": {
      "needs_background": "light"
     },
     "output_type": "display_data"
    }
   ],
   "source": [
    "plt.plot(it)"
   ]
  },
  {
   "cell_type": "code",
   "execution_count": 16,
   "metadata": {},
   "outputs": [
    {
     "name": "stdout",
     "output_type": "stream",
     "text": [
      "Setting iteration to iter 1000.\n"
     ]
    },
    {
     "data": {
      "text/plain": [
       "1.0"
      ]
     },
     "execution_count": 16,
     "metadata": {},
     "output_type": "execute_result"
    }
   ],
   "source": [
    "w.iteration = 1000\n",
    "sum(w.current.weights)"
   ]
  },
  {
   "cell_type": "code",
   "execution_count": 4,
   "metadata": {},
   "outputs": [
    {
     "data": {
      "text/plain": [
       "[<matplotlib.lines.Line2D at 0x7fbbdc052150>]"
      ]
     },
     "execution_count": 4,
     "metadata": {},
     "output_type": "execute_result"
    },
    {
     "data": {
      "image/png": "[encoded data removed]",
      "text/plain": [
       "<Figure size 432x288 with 1 Axes>"
      ]
     },
     "metadata": {
      "needs_background": "light"
     },
     "output_type": "display_data"
    }
   ],
   "source": [
    "plt.plot(flux_array)"
   ]
  },
  {
   "cell_type": "code",
   "execution_count": null,
   "metadata": {},
   "outputs": [],
   "source": []
  }
 ],
 "metadata": {
  "anaconda-cloud": {},
  "kernelspec": {
   "display_name": "Python 2",
   "language": "python",
   "name": "python2"
  },
  "language_info": {
   "codemirror_mode": {
    "name": "ipython",
    "version": 2
   },
   "file_extension": ".py",
   "mimetype": "text/x-python",
   "name": "python",
   "nbconvert_exporter": "python",
   "pygments_lexer": "ipython2",
   "version": "2.7.15"
  }
 },
 "nbformat": 4,
 "nbformat_minor": 1
}
