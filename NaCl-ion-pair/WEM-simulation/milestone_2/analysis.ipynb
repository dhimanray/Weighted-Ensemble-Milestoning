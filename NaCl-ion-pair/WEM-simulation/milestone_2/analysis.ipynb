{
 "cells": [
  {
   "cell_type": "markdown",
   "metadata": {
    "collapsed": true
   },
   "source": [
    "**Jupyter: w_ipa**\n",
    "\n",
    "This is an example jupyter/ipython notebook for WESTPA simulations, designed for interactive analysis using w_ipa.  Use this as a template for further browser-based interactive analysis of simulations.\n",
    "\n",
    "You'll want to start each notebook session with the following:\n",
    "\n",
    "```\n",
    "    import w_ipython\n",
    "    w = w_ipython.WIPI()\n",
    "    w.main()\n",
    "```\n",
    "\n",
    "The w object can then be used for analysis.  Schemes can be listed and changed with\n",
    "\n",
    "```\n",
    "    w.list_schemes\n",
    "    w.scheme = SCHEME_NUMBER/NAME\n",
    "```\n",
    "\n",
    "Run help(w), or w.introduction for more details.\n",
    "\n",
    "Happy analyzing!"
   ]
  },
  {
   "cell_type": "code",
   "execution_count": 1,
   "metadata": {},
   "outputs": [
    {
     "name": "stderr",
     "output_type": "stream",
     "text": [
      "/home/dhiman/Miniconda2/envs/westpa-2017.10/lib/python2.7/site-packages/h5py/__init__.py:36: FutureWarning: Conversion of the second argument of issubdtype from `float` to `np.floating` is deprecated. In future, it will be treated as `np.float64 == np.dtype(float).type`.\n",
      "  from ._conv import register_converters as _register_converters\n"
     ]
    },
    {
     "name": "stdout",
     "output_type": "stream",
     "text": [
      "\n",
      "Welcome to w_ipa (WESTPA Interactive Python Analysis) v. 1.0B!\n",
      "Run w.introduction for a more thorough introduction, or w.help to see a list of options.\n",
      "Running analysis & loading files.\n",
      "Reanalyzing file assign.h5 for scheme TEST.\n",
      "Reanalyzing file direct.h5 for scheme TEST.\n",
      "\n",
      "Complete!\n",
      "Setting iteration to iter 50.\n"
     ]
    }
   ],
   "source": [
    "%matplotlib inline\n",
    "from matplotlib import pyplot as plt\n",
    "import numpy as np\n",
    "import w_ipa\n",
    "w = w_ipa.WIPI()\n",
    "# At startup, it will load or run the analysis schemes specified in the configuration file (typically west.cfg)\n",
    "w.main()\n",
    "w.interface = 'matplotlib'"
   ]
  },
  {
   "cell_type": "code",
   "execution_count": 2,
   "metadata": {},
   "outputs": [
    {
     "name": "stdout",
     "output_type": "stream",
     "text": [
      "Setting iteration to iter 50.\n",
      "35\n",
      "[ 0  1  2  3  4  5  6  7  8  9 10 11 12 13 14 15 16 17 18 19 20 21 22 23\n",
      " 24 25 26 27 28 29 30 31 32 33 34] is the walker with the maximum weight!\n",
      "\n",
      "Indexing according to a seg_id returns all properties on the segment.\n",
      "Children and parents have the same properties/keys.\n",
      "None\n",
      "\n",
      "Where did it come from?  Does it have any descendents?\n"
     ]
    },
    {
     "ename": "ValueError",
     "evalue": "The truth value of an array with more than one element is ambiguous. Use a.any() or a.all()",
     "output_type": "error",
     "traceback": [
      "\u001b[0;31m---------------------------------------------------------------------------\u001b[0m",
      "\u001b[0;31mValueError\u001b[0m                                Traceback (most recent call last)",
      "\u001b[0;32m<ipython-input-2-2924ea7fed5f>\u001b[0m in \u001b[0;36m<module>\u001b[0;34m()\u001b[0m\n\u001b[1;32m     15\u001b[0m \u001b[0;31m# ... we can also see what its parents were like, or what any children are like, should they exist!\u001b[0m\u001b[0;34m\u001b[0m\u001b[0;34m\u001b[0m\u001b[0m\n\u001b[1;32m     16\u001b[0m \u001b[0;32mprint\u001b[0m\u001b[0;34m(\u001b[0m\u001b[0;34m'Where did it come from?  Does it have any descendents?'\u001b[0m\u001b[0;34m)\u001b[0m\u001b[0;34m\u001b[0m\u001b[0m\n\u001b[0;32m---> 17\u001b[0;31m \u001b[0;32mprint\u001b[0m\u001b[0;34m(\u001b[0m\u001b[0;34m'{} is the parent!'\u001b[0m\u001b[0;34m.\u001b[0m\u001b[0mformat\u001b[0m\u001b[0;34m(\u001b[0m\u001b[0mw\u001b[0m\u001b[0;34m.\u001b[0m\u001b[0mpast\u001b[0m\u001b[0;34m[\u001b[0m\u001b[0mheaviest_segment\u001b[0m\u001b[0;34m]\u001b[0m\u001b[0;34m.\u001b[0m\u001b[0mseg_id\u001b[0m\u001b[0;34m)\u001b[0m\u001b[0;34m)\u001b[0m\u001b[0;34m\u001b[0m\u001b[0m\n\u001b[0m\u001b[1;32m     18\u001b[0m \u001b[0;32mprint\u001b[0m\u001b[0;34m(\u001b[0m\u001b[0;34m'{} is/are the children!\\n'\u001b[0m\u001b[0;34m.\u001b[0m\u001b[0mformat\u001b[0m\u001b[0;34m(\u001b[0m\u001b[0mw\u001b[0m\u001b[0;34m.\u001b[0m\u001b[0mfuture\u001b[0m\u001b[0;34m[\u001b[0m\u001b[0mheaviest_segment\u001b[0m\u001b[0;34m]\u001b[0m\u001b[0;34m.\u001b[0m\u001b[0mseg_id\u001b[0m\u001b[0;34m)\u001b[0m\u001b[0;34m)\u001b[0m\u001b[0;34m\u001b[0m\u001b[0m\n\u001b[1;32m     19\u001b[0m \u001b[0;34m\u001b[0m\u001b[0m\n",
      "\u001b[0;32m/home/dhiman/Miniconda2/envs/westpa-2017.10/westpa-2017.10/lib/west_tools/w_ipa.pyc\u001b[0m in \u001b[0;36mpast\u001b[0;34m(self)\u001b[0m\n\u001b[1;32m    533\u001b[0m         \u001b[0mThe\u001b[0m \u001b[0mprevious\u001b[0m \u001b[0miteration\u001b[0m\u001b[0;34m.\u001b[0m  \u001b[0mSee\u001b[0m \u001b[0mhelp\u001b[0m \u001b[0;32mfor\u001b[0m \u001b[0m__get_data_for_iteration__\u001b[0m\u001b[0;34m\u001b[0m\u001b[0m\n\u001b[1;32m    534\u001b[0m         '''\n\u001b[0;32m--> 535\u001b[0;31m         \u001b[0;32mreturn\u001b[0m \u001b[0mself\u001b[0m\u001b[0;34m.\u001b[0m\u001b[0mscheme\u001b[0m\u001b[0;34m[\u001b[0m\u001b[0mself\u001b[0m\u001b[0;34m.\u001b[0m\u001b[0mscheme\u001b[0m\u001b[0;34m.\u001b[0m\u001b[0mscheme\u001b[0m\u001b[0;34m]\u001b[0m\u001b[0;34m.\u001b[0m\u001b[0mpast\u001b[0m\u001b[0;34m\u001b[0m\u001b[0m\n\u001b[0m\u001b[1;32m    536\u001b[0m \u001b[0;34m\u001b[0m\u001b[0m\n\u001b[1;32m    537\u001b[0m \u001b[0;34m\u001b[0m\u001b[0m\n",
      "\u001b[0;32m/home/dhiman/Miniconda2/envs/westpa-2017.10/westpa-2017.10/lib/west_tools/westtools/wipi.pyc\u001b[0m in \u001b[0;36mpast\u001b[0;34m(self)\u001b[0m\n\u001b[1;32m    662\u001b[0m         '''\n\u001b[1;32m    663\u001b[0m         \u001b[0;32mif\u001b[0m \u001b[0mself\u001b[0m\u001b[0;34m.\u001b[0m\u001b[0miteration\u001b[0m \u001b[0;34m>\u001b[0m \u001b[0;36m1\u001b[0m\u001b[0;34m:\u001b[0m\u001b[0;34m\u001b[0m\u001b[0m\n\u001b[0;32m--> 664\u001b[0;31m             \u001b[0;32mreturn\u001b[0m \u001b[0m__get_data_for_iteration__\u001b[0m\u001b[0;34m(\u001b[0m\u001b[0mvalue\u001b[0m\u001b[0;34m=\u001b[0m\u001b[0mself\u001b[0m\u001b[0;34m.\u001b[0m\u001b[0miteration\u001b[0m \u001b[0;34m-\u001b[0m \u001b[0;36m1\u001b[0m\u001b[0;34m,\u001b[0m \u001b[0mseg_ids\u001b[0m\u001b[0;34m=\u001b[0m\u001b[0mself\u001b[0m\u001b[0;34m.\u001b[0m\u001b[0mcurrent\u001b[0m\u001b[0;34m[\u001b[0m\u001b[0;34m'parents'\u001b[0m\u001b[0;34m]\u001b[0m\u001b[0;34m,\u001b[0m \u001b[0mparent\u001b[0m\u001b[0;34m=\u001b[0m\u001b[0mself\u001b[0m\u001b[0;34m)\u001b[0m\u001b[0;34m\u001b[0m\u001b[0m\n\u001b[0m\u001b[1;32m    665\u001b[0m         \u001b[0;32melse\u001b[0m\u001b[0;34m:\u001b[0m\u001b[0;34m\u001b[0m\u001b[0m\n\u001b[1;32m    666\u001b[0m             \u001b[0;32mprint\u001b[0m\u001b[0;34m(\u001b[0m\u001b[0;34m\"The current iteration is 1; there is no past.\"\u001b[0m\u001b[0;34m)\u001b[0m\u001b[0;34m\u001b[0m\u001b[0m\n",
      "\u001b[0;32m/home/dhiman/Miniconda2/envs/westpa-2017.10/westpa-2017.10/lib/west_tools/westtools/wipi.pyc\u001b[0m in \u001b[0;36m__init__\u001b[0;34m(self, parent, value, seg_ids)\u001b[0m\n\u001b[1;32m    336\u001b[0m         \u001b[0mcurrent\u001b[0m \u001b[0;34m=\u001b[0m \u001b[0;34m{\u001b[0m\u001b[0;34m}\u001b[0m\u001b[0;34m\u001b[0m\u001b[0m\n\u001b[1;32m    337\u001b[0m         \u001b[0mcurrent\u001b[0m\u001b[0;34m[\u001b[0m\u001b[0;34m'iteration'\u001b[0m\u001b[0;34m]\u001b[0m \u001b[0;34m=\u001b[0m \u001b[0mvalue\u001b[0m\u001b[0;34m\u001b[0m\u001b[0m\n\u001b[0;32m--> 338\u001b[0;31m         \u001b[0;32mif\u001b[0m \u001b[0mseg_ids\u001b[0m \u001b[0;34m==\u001b[0m \u001b[0mNone\u001b[0m\u001b[0;34m:\u001b[0m\u001b[0;34m\u001b[0m\u001b[0m\n\u001b[0m\u001b[1;32m    339\u001b[0m             \u001b[0mseg_ids\u001b[0m \u001b[0;34m=\u001b[0m \u001b[0mxrange\u001b[0m\u001b[0;34m(\u001b[0m\u001b[0;36m0\u001b[0m\u001b[0;34m,\u001b[0m \u001b[0miter_group\u001b[0m\u001b[0;34m[\u001b[0m\u001b[0;34m'seg_index'\u001b[0m\u001b[0;34m]\u001b[0m\u001b[0;34m[\u001b[0m\u001b[0;34m'weight'\u001b[0m\u001b[0;34m]\u001b[0m\u001b[0;34m.\u001b[0m\u001b[0mshape\u001b[0m\u001b[0;34m[\u001b[0m\u001b[0;36m0\u001b[0m\u001b[0;34m]\u001b[0m\u001b[0;34m)\u001b[0m\u001b[0;34m\u001b[0m\u001b[0m\n\u001b[1;32m    340\u001b[0m         \u001b[0;31m# Just make these easier to access.\u001b[0m\u001b[0;34m\u001b[0m\u001b[0;34m\u001b[0m\u001b[0m\n",
      "\u001b[0;31mValueError\u001b[0m: The truth value of an array with more than one element is ambiguous. Use a.any() or a.all()"
     ]
    }
   ],
   "source": [
    "# Set the iteration to the second to last one.\n",
    "w.iteration = 50\n",
    "\n",
    "# Access the current iteration dictionary, and return an interesting segment:\n",
    "# the heaviest one in the current segment!\n",
    "# Note that we can access either as attributes or dictionary keys!\n",
    "# Attributes can be tab completed when running in console mode.\n",
    "heaviest_segment = w.current.seg_id\n",
    "print heaviest_segment.size\n",
    "print('{} is the walker with the maximum weight!\\n'.format(heaviest_segment))\n",
    "# We can index the current iteration according to the seg_id...\n",
    "print('Indexing according to a seg_id returns all properties on the segment.')\n",
    "print('Children and parents have the same properties/keys.')\n",
    "print(str(w.current[heaviest_segment]) + '\\n')\n",
    "# ... we can also see what its parents were like, or what any children are like, should they exist!\n",
    "print('Where did it come from?  Does it have any descendents?')\n",
    "print('{} is the parent!'.format(w.past[heaviest_segment].seg_id))\n",
    "print('{} is/are the children!\\n'.format(w.future[heaviest_segment].seg_id))\n",
    "\n",
    "# We can see that the past/future objects are keyed to seg_ids in the CURRENT iteration, always.\n",
    "# We can also see all available properties on the current iteration, and index THOSE according to a segment.\n",
    "# As an example:\n",
    "print('Can we index either way?')\n",
    "print(str((w.current.pcoord[heaviest_segment] == w.current[heaviest_segment].pcoord)[0]) + '\\n')\n",
    "\n",
    "# w.current also contains the output from w_direct/w_reweight/w_assign for the current iteration.\n",
    "# w.past contains the same output, from the prior iteration, keyed to the current seg_id\n",
    "print('What properties exist in the current dictionary?')\n",
    "print(w.current)"
   ]
  },
  {
   "cell_type": "code",
   "execution_count": 3,
   "metadata": {},
   "outputs": [
    {
     "ename": "UnboundLocalError",
     "evalue": "local variable 'count' referenced before assignment",
     "output_type": "error",
     "traceback": [
      "\u001b[0;31m---------------------------------------------------------------------------\u001b[0m",
      "\u001b[0;31mUnboundLocalError\u001b[0m                         Traceback (most recent call last)",
      "\u001b[0;32m<ipython-input-3-7cd7c120ef2c>\u001b[0m in \u001b[0;36m<module>\u001b[0;34m()\u001b[0m\n\u001b[1;32m      1\u001b[0m \u001b[0;31m# Let's trace our heaviest walker to see its history!\u001b[0m\u001b[0;34m\u001b[0m\u001b[0;34m\u001b[0m\u001b[0m\n\u001b[0;32m----> 2\u001b[0;31m \u001b[0mhs_trace\u001b[0m \u001b[0;34m=\u001b[0m \u001b[0mw\u001b[0m\u001b[0;34m.\u001b[0m\u001b[0mtrace\u001b[0m\u001b[0;34m(\u001b[0m\u001b[0mheaviest_segment\u001b[0m\u001b[0;34m.\u001b[0m\u001b[0mall\u001b[0m\u001b[0;34m(\u001b[0m\u001b[0;34m)\u001b[0m\u001b[0;34m)\u001b[0m\u001b[0;34m\u001b[0m\u001b[0m\n\u001b[0m\u001b[1;32m      3\u001b[0m \u001b[0;32mprint\u001b[0m\u001b[0;34m(\u001b[0m\u001b[0;34m'What data can we access from our trace for segment {}?'\u001b[0m\u001b[0;34m.\u001b[0m\u001b[0mformat\u001b[0m\u001b[0;34m(\u001b[0m\u001b[0mheaviest_segment\u001b[0m\u001b[0;34m)\u001b[0m\u001b[0;34m)\u001b[0m\u001b[0;34m\u001b[0m\u001b[0m\n\u001b[1;32m      4\u001b[0m \u001b[0;32mprint\u001b[0m\u001b[0;34m(\u001b[0m\u001b[0mhs_trace\u001b[0m\u001b[0;34m.\u001b[0m\u001b[0mkeys\u001b[0m\u001b[0;34m(\u001b[0m\u001b[0;34m)\u001b[0m\u001b[0;34m)\u001b[0m\u001b[0;34m\u001b[0m\u001b[0m\n\u001b[1;32m      5\u001b[0m \u001b[0;31m# Then plot something interesting about it, like the pcoord or the weight changes over time.\u001b[0m\u001b[0;34m\u001b[0m\u001b[0;34m\u001b[0m\u001b[0m\n",
      "\u001b[0;32m/home/dhiman/Miniconda2/envs/westpa-2017.10/westpa-2017.10/lib/west_tools/w_ipa.pyc\u001b[0m in \u001b[0;36mtrace\u001b[0;34m(self, seg_id)\u001b[0m\n\u001b[1;32m    566\u001b[0m                 \u001b[0miter_group\u001b[0m \u001b[0;34m=\u001b[0m \u001b[0mself\u001b[0m\u001b[0;34m.\u001b[0m\u001b[0mdata_reader\u001b[0m\u001b[0;34m.\u001b[0m\u001b[0mget_iter_group\u001b[0m\u001b[0;34m(\u001b[0m\u001b[0miter\u001b[0m\u001b[0;34m)\u001b[0m\u001b[0;34m\u001b[0m\u001b[0m\n\u001b[1;32m    567\u001b[0m                 \u001b[0mparticles\u001b[0m \u001b[0;34m=\u001b[0m \u001b[0mself\u001b[0m\u001b[0;34m.\u001b[0m\u001b[0mdata_reader\u001b[0m\u001b[0;34m.\u001b[0m\u001b[0mdata_manager\u001b[0m\u001b[0;34m.\u001b[0m\u001b[0mget_iter_summary\u001b[0m\u001b[0;34m(\u001b[0m\u001b[0mint\u001b[0m\u001b[0;34m(\u001b[0m\u001b[0miter\u001b[0m\u001b[0;34m)\u001b[0m\u001b[0;34m)\u001b[0m\u001b[0;34m[\u001b[0m\u001b[0;34m'n_particles'\u001b[0m\u001b[0;34m]\u001b[0m\u001b[0;34m\u001b[0m\u001b[0m\n\u001b[0;32m--> 568\u001b[0;31m                 \u001b[0mcurrent\u001b[0m\u001b[0;34m[\u001b[0m\u001b[0;34m'pcoord'\u001b[0m\u001b[0;34m]\u001b[0m\u001b[0;34m.\u001b[0m\u001b[0mappend\u001b[0m\u001b[0;34m(\u001b[0m\u001b[0miter_group\u001b[0m\u001b[0;34m[\u001b[0m\u001b[0;34m'pcoord'\u001b[0m\u001b[0;34m]\u001b[0m\u001b[0;34m[\u001b[0m\u001b[0mseg_id\u001b[0m\u001b[0;34m,\u001b[0m \u001b[0;34m:\u001b[0m\u001b[0;34m,\u001b[0m \u001b[0;34m:\u001b[0m\u001b[0;34m]\u001b[0m\u001b[0;34m)\u001b[0m\u001b[0;34m\u001b[0m\u001b[0m\n\u001b[0m\u001b[1;32m    569\u001b[0m                 \u001b[0mcurrent\u001b[0m\u001b[0;34m[\u001b[0m\u001b[0;34m'states'\u001b[0m\u001b[0;34m]\u001b[0m\u001b[0;34m.\u001b[0m\u001b[0mappend\u001b[0m\u001b[0;34m(\u001b[0m\u001b[0mself\u001b[0m\u001b[0;34m.\u001b[0m\u001b[0massign\u001b[0m\u001b[0;34m[\u001b[0m\u001b[0;34m'trajlabels'\u001b[0m\u001b[0;34m]\u001b[0m\u001b[0;34m[\u001b[0m\u001b[0miter\u001b[0m\u001b[0;34m-\u001b[0m\u001b[0;36m1\u001b[0m\u001b[0;34m,\u001b[0m \u001b[0mseg_id\u001b[0m\u001b[0;34m,\u001b[0m\u001b[0;34m:\u001b[0m\u001b[0;34m]\u001b[0m\u001b[0;34m)\u001b[0m\u001b[0;34m\u001b[0m\u001b[0m\n\u001b[1;32m    570\u001b[0m                 \u001b[0mcurrent\u001b[0m\u001b[0;34m[\u001b[0m\u001b[0;34m'bins'\u001b[0m\u001b[0;34m]\u001b[0m\u001b[0;34m.\u001b[0m\u001b[0mappend\u001b[0m\u001b[0;34m(\u001b[0m\u001b[0mself\u001b[0m\u001b[0;34m.\u001b[0m\u001b[0massign\u001b[0m\u001b[0;34m[\u001b[0m\u001b[0;34m'assignments'\u001b[0m\u001b[0;34m]\u001b[0m\u001b[0;34m[\u001b[0m\u001b[0miter\u001b[0m\u001b[0;34m-\u001b[0m\u001b[0;36m1\u001b[0m\u001b[0;34m,\u001b[0m \u001b[0mseg_id\u001b[0m\u001b[0;34m,\u001b[0m\u001b[0;34m:\u001b[0m\u001b[0;34m]\u001b[0m\u001b[0;34m)\u001b[0m\u001b[0;34m\u001b[0m\u001b[0m\n",
      "\u001b[0;32mh5py/_objects.pyx\u001b[0m in \u001b[0;36mh5py._objects.with_phil.wrapper\u001b[0;34m()\u001b[0m\n",
      "\u001b[0;32mh5py/_objects.pyx\u001b[0m in \u001b[0;36mh5py._objects.with_phil.wrapper\u001b[0;34m()\u001b[0m\n",
      "\u001b[0;32m/home/dhiman/Miniconda2/envs/westpa-2017.10/lib/python2.7/site-packages/h5py/_hl/dataset.pyc\u001b[0m in \u001b[0;36m__getitem__\u001b[0;34m(self, args)\u001b[0m\n\u001b[1;32m    474\u001b[0m \u001b[0;34m\u001b[0m\u001b[0m\n\u001b[1;32m    475\u001b[0m         \u001b[0;31m# Perform the dataspace selection.\u001b[0m\u001b[0;34m\u001b[0m\u001b[0;34m\u001b[0m\u001b[0m\n\u001b[0;32m--> 476\u001b[0;31m         \u001b[0mselection\u001b[0m \u001b[0;34m=\u001b[0m \u001b[0msel\u001b[0m\u001b[0;34m.\u001b[0m\u001b[0mselect\u001b[0m\u001b[0;34m(\u001b[0m\u001b[0mself\u001b[0m\u001b[0;34m.\u001b[0m\u001b[0mshape\u001b[0m\u001b[0;34m,\u001b[0m \u001b[0margs\u001b[0m\u001b[0;34m,\u001b[0m \u001b[0mdsid\u001b[0m\u001b[0;34m=\u001b[0m\u001b[0mself\u001b[0m\u001b[0;34m.\u001b[0m\u001b[0mid\u001b[0m\u001b[0;34m)\u001b[0m\u001b[0;34m\u001b[0m\u001b[0m\n\u001b[0m\u001b[1;32m    477\u001b[0m \u001b[0;34m\u001b[0m\u001b[0m\n\u001b[1;32m    478\u001b[0m         \u001b[0;32mif\u001b[0m \u001b[0mselection\u001b[0m\u001b[0;34m.\u001b[0m\u001b[0mnselect\u001b[0m \u001b[0;34m==\u001b[0m \u001b[0;36m0\u001b[0m\u001b[0;34m:\u001b[0m\u001b[0;34m\u001b[0m\u001b[0m\n",
      "\u001b[0;32m/home/dhiman/Miniconda2/envs/westpa-2017.10/lib/python2.7/site-packages/h5py/_hl/selections.pyc\u001b[0m in \u001b[0;36mselect\u001b[0;34m(shape, args, dsid)\u001b[0m\n\u001b[1;32m     88\u001b[0m             \u001b[0;32mexcept\u001b[0m \u001b[0mException\u001b[0m\u001b[0;34m:\u001b[0m\u001b[0;34m\u001b[0m\u001b[0m\n\u001b[1;32m     89\u001b[0m                 \u001b[0msel\u001b[0m \u001b[0;34m=\u001b[0m \u001b[0mFancySelection\u001b[0m\u001b[0;34m(\u001b[0m\u001b[0mshape\u001b[0m\u001b[0;34m)\u001b[0m\u001b[0;34m\u001b[0m\u001b[0m\n\u001b[0;32m---> 90\u001b[0;31m                 \u001b[0msel\u001b[0m\u001b[0;34m[\u001b[0m\u001b[0margs\u001b[0m\u001b[0;34m]\u001b[0m\u001b[0;34m\u001b[0m\u001b[0m\n\u001b[0m\u001b[1;32m     91\u001b[0m                 \u001b[0;32mreturn\u001b[0m \u001b[0msel\u001b[0m\u001b[0;34m\u001b[0m\u001b[0m\n\u001b[1;32m     92\u001b[0m \u001b[0;34m\u001b[0m\u001b[0m\n",
      "\u001b[0;32m/home/dhiman/Miniconda2/envs/westpa-2017.10/lib/python2.7/site-packages/h5py/_hl/selections.pyc\u001b[0m in \u001b[0;36m__getitem__\u001b[0;34m(self, args)\u001b[0m\n\u001b[1;32m    390\u001b[0m         \u001b[0;31m# they correspond to sequence entries\u001b[0m\u001b[0;34m\u001b[0m\u001b[0;34m\u001b[0m\u001b[0m\n\u001b[1;32m    391\u001b[0m \u001b[0;34m\u001b[0m\u001b[0m\n\u001b[0;32m--> 392\u001b[0;31m         \u001b[0mmshape\u001b[0m \u001b[0;34m=\u001b[0m \u001b[0mlist\u001b[0m\u001b[0;34m(\u001b[0m\u001b[0mcount\u001b[0m\u001b[0;34m)\u001b[0m\u001b[0;34m\u001b[0m\u001b[0m\n\u001b[0m\u001b[1;32m    393\u001b[0m         \u001b[0;32mfor\u001b[0m \u001b[0midx\u001b[0m \u001b[0;32min\u001b[0m \u001b[0mxrange\u001b[0m\u001b[0;34m(\u001b[0m\u001b[0mlen\u001b[0m\u001b[0;34m(\u001b[0m\u001b[0mmshape\u001b[0m\u001b[0;34m)\u001b[0m\u001b[0;34m)\u001b[0m\u001b[0;34m:\u001b[0m\u001b[0;34m\u001b[0m\u001b[0m\n\u001b[1;32m    394\u001b[0m             \u001b[0;32mif\u001b[0m \u001b[0midx\u001b[0m \u001b[0;32min\u001b[0m \u001b[0msequenceargs\u001b[0m\u001b[0;34m:\u001b[0m\u001b[0;34m\u001b[0m\u001b[0m\n",
      "\u001b[0;31mUnboundLocalError\u001b[0m: local variable 'count' referenced before assignment"
     ]
    }
   ],
   "source": [
    "# Let's trace our heaviest walker to see its history!\n",
    "hs_trace = w.trace(heaviest_segment.all())\n",
    "print('What data can we access from our trace for segment {}?'.format(heaviest_segment))\n",
    "print(hs_trace.keys())\n",
    "# Then plot something interesting about it, like the pcoord or the weight changes over time.\n",
    "# The resulting plot is per time point, not iteration.\n",
    "plt.plot(hs_trace['pcoord'])\n",
    "plt.show()\n",
    "plt.plot(np.log10(hs_trace['weights']))\n",
    "plt.show()\n",
    "# We can plot the state changes over time, too, if we wanted.\n",
    "plt.plot(hs_trace['states'])"
   ]
  },
  {
   "cell_type": "code",
   "execution_count": 48,
   "metadata": {},
   "outputs": [
    {
     "name": "stdout",
     "output_type": "stream",
     "text": [
      "State labels and definitions!\n",
      "0: unbound\n",
      "1: bound\n",
      "2: Unknown\n",
      "None\n"
     ]
    },
    {
     "data": {
      "image/png": "[encoded data removed]",
      "text/plain": [
       "<Figure size 432x288 with 1 Axes>"
      ]
     },
     "metadata": {
      "needs_background": "light"
     },
     "output_type": "display_data"
    },
    {
     "name": "stdout",
     "output_type": "stream",
     "text": [
      "Rate evolution from state 0 to 1\n"
     ]
    },
    {
     "data": {
      "image/png": "[encoded data removed]",
      "text/plain": [
       "<Figure size 432x288 with 1 Axes>"
      ]
     },
     "metadata": {
      "needs_background": "light"
     },
     "output_type": "display_data"
    },
    {
     "name": "stdout",
     "output_type": "stream",
     "text": [
      "Rate evolution from state 1 to 0\n"
     ]
    }
   ],
   "source": [
    "# There's a built in plotting interface that can be used to plot interesting things!\n",
    "# Try running this command directly from the terminal in w_ipa.\n",
    "print(w.state_labels)\n",
    "w.current.direct.rate_evolution.plot(interface='matplotlib')\n",
    "print(\"Rate evolution from state 0 to 1\")\n",
    "w.current.direct.rate_evolution.plot(1,0,interface='matplotlib')\n",
    "print(\"Rate evolution from state 1 to 0\")"
   ]
  },
  {
   "cell_type": "code",
   "execution_count": 4,
   "metadata": {},
   "outputs": [
    {
     "ename": "NameError",
     "evalue": "name 'hs_trace' is not defined",
     "output_type": "error",
     "traceback": [
      "\u001b[0;31m---------------------------------------------------------------------------\u001b[0m",
      "\u001b[0;31mNameError\u001b[0m                                 Traceback (most recent call last)",
      "\u001b[0;32m<ipython-input-4-b8c249325b92>\u001b[0m in \u001b[0;36m<module>\u001b[0;34m()\u001b[0m\n\u001b[0;32m----> 1\u001b[0;31m \u001b[0;32mprint\u001b[0m \u001b[0;34m(\u001b[0m\u001b[0mhs_trace\u001b[0m\u001b[0;34m[\u001b[0m\u001b[0;34m'weights'\u001b[0m\u001b[0;34m]\u001b[0m\u001b[0;34m)\u001b[0m\u001b[0;34m\u001b[0m\u001b[0m\n\u001b[0m",
      "\u001b[0;31mNameError\u001b[0m: name 'hs_trace' is not defined"
     ]
    }
   ],
   "source": [
    "print (hs_trace['weights'])"
   ]
  },
  {
   "cell_type": "code",
   "execution_count": 26,
   "metadata": {},
   "outputs": [
    {
     "name": "stdout",
     "output_type": "stream",
     "text": [
      "1\n"
     ]
    }
   ],
   "source": [
    "print (hs_trace['weights']).size"
   ]
  },
  {
   "cell_type": "code",
   "execution_count": 21,
   "metadata": {},
   "outputs": [
    {
     "ename": "TypeError",
     "evalue": "trace() takes exactly 2 arguments (1 given)",
     "output_type": "error",
     "traceback": [
      "\u001b[0;31m---------------------------------------------------------------------------\u001b[0m",
      "\u001b[0;31mTypeError\u001b[0m                                 Traceback (most recent call last)",
      "\u001b[0;32m<ipython-input-21-493a0ed9426e>\u001b[0m in \u001b[0;36m<module>\u001b[0;34m()\u001b[0m\n\u001b[0;32m----> 1\u001b[0;31m \u001b[0;32mprint\u001b[0m \u001b[0mw\u001b[0m\u001b[0;34m.\u001b[0m\u001b[0mtrace\u001b[0m\u001b[0;34m(\u001b[0m\u001b[0;34m)\u001b[0m\u001b[0;34m\u001b[0m\u001b[0m\n\u001b[0m",
      "\u001b[0;31mTypeError\u001b[0m: trace() takes exactly 2 arguments (1 given)"
     ]
    }
   ],
   "source": [
    "print w.trace()"
   ]
  },
  {
   "cell_type": "code",
   "execution_count": 32,
   "metadata": {},
   "outputs": [
    {
     "name": "stdout",
     "output_type": "stream",
     "text": [
      "<w_ipa.WIPI object at 0x7f93bba58f90>\n"
     ]
    }
   ],
   "source": [
    "print w"
   ]
  },
  {
   "cell_type": "code",
   "execution_count": 36,
   "metadata": {},
   "outputs": [
    {
     "name": "stdout",
     "output_type": "stream",
     "text": [
      "Help on WIPI in module w_ipa object:\n",
      "\n",
      "class WIPI(westtools.core.WESTParallelTool)\n",
      " |  Welcome to w_ipa (WESTPA Interactive Python Analysis)!\n",
      " |  From here, you can run traces, look at weights, progress coordinates, etc.\n",
      " |  This is considered a 'stateful' tool; that is, the data you are pulling is always pulled\n",
      " |  from the current analysis scheme and iteration.\n",
      " |  By default, the first analysis scheme in west.cfg is used, and you are set at iteration 1.\n",
      " |  \n",
      " |  ALL PROPERTIES ARE ACCESSED VIA w or west\n",
      " |  To see the current iteration, try:\n",
      " |  \n",
      " |      w.iteration\n",
      " |      OR\n",
      " |      west.iteration\n",
      " |  \n",
      " |  to set it, simply plug in a new value.\n",
      " |  \n",
      " |      w.iteration = 100\n",
      " |  \n",
      " |  To change/list the current analysis schemes:\n",
      " |  \n",
      " |      w.list_schemes\n",
      " |      w.scheme = OUTPUT FROM w.list_schemes\n",
      " |  \n",
      " |  To see the states and bins defined in the current analysis scheme:\n",
      " |  \n",
      " |      w.states\n",
      " |      w.bin_labels\n",
      " |  \n",
      " |  All information about the current iteration is available in an object called 'current':\n",
      " |  \n",
      " |      w.current\n",
      " |      walkers, summary, states, seg_id, weights, parents, kinavg, pcoord, bins, populations, and auxdata, if it exists.\n",
      " |  \n",
      " |  In addition, the function w.trace(seg_id) will run a trace over a seg_id in the current iteration and return a dictionary\n",
      " |  containing all pertinent information about that seg_id's history.  It's best to store this, as the trace can be expensive.\n",
      " |  \n",
      " |  Run help on any function or property for more information!\n",
      " |  \n",
      " |  Happy analyzing!\n",
      " |  \n",
      " |  Method resolution order:\n",
      " |      WIPI\n",
      " |      westtools.core.WESTParallelTool\n",
      " |      westtools.core.WESTTool\n",
      " |      westtools.core.WESTToolComponent\n",
      " |      __builtin__.object\n",
      " |  \n",
      " |  Methods defined here:\n",
      " |  \n",
      " |  __dir__(self)\n",
      " |  \n",
      " |  __format_keys__(self, keys, split='/', offset=0, max_length=80, prepend='')\n",
      " |      # Just a little function to be used with the introduction.\n",
      " |  \n",
      " |  __get_children__(self)\n",
      " |      Returns all information about the children of a given walker in the current iteration.\n",
      " |      Used to generate and create the future object, if necessary.\n",
      " |  \n",
      " |  __init__(self)\n",
      " |  \n",
      " |  add_args(self, parser)\n",
      " |  \n",
      " |  analysis_structure(self)\n",
      " |      Run automatically on startup.  Parses through the configuration file, and loads up all the data files from the different \n",
      " |      analysis schematics.  If they don't exist, it creates them automatically by hooking in to existing analysis routines \n",
      " |      and going from there.  \n",
      " |      \n",
      " |      It does this by calling in the make_parser_and_process function for w_{assign,reweight,direct} using a custom built list\n",
      " |      of args.  The user can specify everything in the configuration file that would have been specified on the command line.\n",
      " |      \n",
      " |      For instance, were one to call w_direct as follows:\n",
      " |      \n",
      " |          w_direct --evolution cumulative --step-iter 1 --disable-correl\n",
      " |      \n",
      " |      the west.cfg would look as follows:\n",
      " |      \n",
      " |      west:\n",
      " |        analysis:\n",
      " |          w_direct:\n",
      " |            evolution: cumulative\n",
      " |            step_iter: 1\n",
      " |            extra: ['disable-correl']\n",
      " |      \n",
      " |      Alternatively, if one wishes to use the same options for both w_direct and w_reweight, the key 'w_direct' can be replaced\n",
      " |      with 'kinetics'.\n",
      " |  \n",
      " |  go(self)\n",
      " |      Function automatically called by main() when launched via the command line interface.\n",
      " |      Generally, call main, not this function.\n",
      " |  \n",
      " |  hash_args(self, args, extra=None, path=None)\n",
      " |      Create unique hash stamp to determine if arguments/file is different from before.\n",
      " |  \n",
      " |  process_args(self, args)\n",
      " |  \n",
      " |  stamp_hash(self, h5file_name, new_hash)\n",
      " |      Loads a file, stamps it, and returns the opened file in read only\n",
      " |  \n",
      " |  trace(self, seg_id)\n",
      " |      Runs a trace on a seg_id within the current iteration, all the way back to the beginning,\n",
      " |      returning a dictionary containing all interesting information:\n",
      " |      \n",
      " |          seg_id, pcoord, states, bins, weights, iteration, auxdata (optional)\n",
      " |      \n",
      " |      sorted in chronological order.\n",
      " |      \n",
      " |      \n",
      " |      Call with a seg_id.\n",
      " |  \n",
      " |  ----------------------------------------------------------------------\n",
      " |  Data descriptors defined here:\n",
      " |  \n",
      " |  assign\n",
      " |  \n",
      " |  bin_labels\n",
      " |  \n",
      " |  current\n",
      " |      The current iteration.  See help for __get_data_for_iteration__\n",
      " |  \n",
      " |  direct\n",
      " |      The output from w_kinavg.py from the current scheme.\n",
      " |  \n",
      " |  future\n",
      " |      Similar to current/past, but keyed differently and returns different datasets.\n",
      " |      See help for Future.\n",
      " |  \n",
      " |  help\n",
      " |      Just a minor function to call help on itself.  Only in here to really help someone get help.\n",
      " |  \n",
      " |  introduction\n",
      " |      Just spits out an introduction, in case someone doesn't call help.\n",
      " |  \n",
      " |  iteration\n",
      " |      Returns/sets the current iteration.\n",
      " |  \n",
      " |  list_schemes\n",
      " |      Lists what schemes are configured in west.cfg file.\n",
      " |      Schemes should be structured as follows, in west.cfg:\n",
      " |      \n",
      " |      west:\n",
      " |        system:\n",
      " |          analysis:\n",
      " |            directory: analysis\n",
      " |            analysis_schemes:\n",
      " |              scheme.1:\n",
      " |                enabled: True\n",
      " |                states:\n",
      " |                  - label: unbound\n",
      " |                    coords: [[7.0]]\n",
      " |                  - label: bound\n",
      " |                    coords: [[2.7]]\n",
      " |                bins:\n",
      " |                  - type: RectilinearBinMapper\n",
      " |                    boundaries: [[0.0, 2.80, 7, 10000]]\n",
      " |  \n",
      " |  past\n",
      " |      The previous iteration.  See help for __get_data_for_iteration__\n",
      " |  \n",
      " |  reweight\n",
      " |  \n",
      " |  scheme\n",
      " |      Returns and sets what scheme is currently in use.\n",
      " |      To see what schemes are available, run:\n",
      " |      \n",
      " |          w.list_schemes\n",
      " |  \n",
      " |  state_labels\n",
      " |  \n",
      " |  west\n",
      " |  \n",
      " |  ----------------------------------------------------------------------\n",
      " |  Data and other attributes defined here:\n",
      " |  \n",
      " |  Future = <class 'w_ipa.Future'>\n",
      " |  \n",
      " |  \n",
      " |  ----------------------------------------------------------------------\n",
      " |  Methods inherited from westtools.core.WESTParallelTool:\n",
      " |  \n",
      " |  main(self)\n",
      " |      A convenience function to make a parser, parse and process arguments, then run self.go() in the master process.\n",
      " |  \n",
      " |  make_parser_and_process(self, prog=None, usage=None, description=None, epilog=None, args=None)\n",
      " |      A convenience function to create a parser, call add_all_args(), and then call process_all_args().\n",
      " |      The argument namespace is returned.\n",
      " |  \n",
      " |  ----------------------------------------------------------------------\n",
      " |  Methods inherited from westtools.core.WESTTool:\n",
      " |  \n",
      " |  make_parser(self, prog=None, usage=None, description=None, epilog=None, args=None)\n",
      " |  \n",
      " |  ----------------------------------------------------------------------\n",
      " |  Data and other attributes inherited from westtools.core.WESTTool:\n",
      " |  \n",
      " |  description = None\n",
      " |  \n",
      " |  epilog = None\n",
      " |  \n",
      " |  prog = None\n",
      " |  \n",
      " |  usage = None\n",
      " |  \n",
      " |  ----------------------------------------------------------------------\n",
      " |  Methods inherited from westtools.core.WESTToolComponent:\n",
      " |  \n",
      " |  add_all_args(self, parser)\n",
      " |      Add arguments for all components from which this class derives to the given parser,\n",
      " |      starting with the class highest up the inheritance chain (most distant ancestor).\n",
      " |  \n",
      " |  exclude_arg(self, argname)\n",
      " |  \n",
      " |  include_arg(self, argname)\n",
      " |  \n",
      " |  process_all_args(self, args)\n",
      " |  \n",
      " |  set_arg_default(self, argname, value)\n",
      " |  \n",
      " |  ----------------------------------------------------------------------\n",
      " |  Data descriptors inherited from westtools.core.WESTToolComponent:\n",
      " |  \n",
      " |  __dict__\n",
      " |      dictionary for instance variables (if defined)\n",
      " |  \n",
      " |  __weakref__\n",
      " |      list of weak references to the object (if defined)\n",
      "\n"
     ]
    }
   ],
   "source": [
    "help(w)"
   ]
  },
  {
   "cell_type": "code",
   "execution_count": 37,
   "metadata": {},
   "outputs": [
    {
     "name": "stdout",
     "output_type": "stream",
     "text": [
      "\n",
      "        Call as a dictionary item or a .attribute:\n",
      "\n",
      "        w.past, w.current, w.future:\n",
      "            \n",
      "            aggregate_walkers auxdata bins color_prob_evolution conditional_flux_evolution direct \n",
      "            instant_matrix iteration matrix maxweight minweight parent parents pcoord rate_evolution \n",
      "            raw reweight seg_id state_pop_evolution states successful_trajectories summary \n",
      "            target_flux_evolution total_fluxes walkers weights\n",
      "\n",
      "        Raw schemes can be accessed as follows:\n",
      "\n",
      "            w.scheme.TEST\n",
      "\n",
      "            and contain mostly the same datasets associated with w.\n",
      "\n",
      "        The following give raw access to the h5 files associated with the current scheme\n",
      "\n",
      "        w.west\n",
      "        w.assign\n",
      "        w.direct\n",
      "        w.reweight\n",
      "\n",
      "        OTHER:\n",
      "\n",
      "        w.bin_labels\n",
      "        w.current\n",
      "        w.future\n",
      "        w.iteration\n",
      "        w.list_schemes\n",
      "        w.niters\n",
      "        w.past\n",
      "        w.scheme\n",
      "        w.state_labels\n",
      "        w.trace\n",
      "        w.west\n",
      "        \n",
      "\n",
      "        \n"
     ]
    }
   ],
   "source": [
    "w.introduction"
   ]
  },
  {
   "cell_type": "code",
   "execution_count": 38,
   "metadata": {},
   "outputs": [
    {
     "data": {
      "text/plain": [
       "<HDF5 file \"reweight.h5\" (mode r+)>"
      ]
     },
     "execution_count": 38,
     "metadata": {},
     "output_type": "execute_result"
    }
   ],
   "source": [
    "w.reweight"
   ]
  },
  {
   "cell_type": "code",
   "execution_count": 39,
   "metadata": {},
   "outputs": [
    {
     "name": "stdout",
     "output_type": "stream",
     "text": [
      "<HDF5 file \"reweight.h5\" (mode r+)>\n"
     ]
    }
   ],
   "source": [
    "print w.reweight"
   ]
  },
  {
   "cell_type": "code",
   "execution_count": 42,
   "metadata": {},
   "outputs": [
    {
     "ename": "AttributeError",
     "evalue": "'WIPI' object has no attribute 'matrix'",
     "output_type": "error",
     "traceback": [
      "\u001b[0;31m---------------------------------------------------------------------------\u001b[0m",
      "\u001b[0;31mAttributeError\u001b[0m                            Traceback (most recent call last)",
      "\u001b[0;32m<ipython-input-42-b7ab35fe2f0c>\u001b[0m in \u001b[0;36m<module>\u001b[0;34m()\u001b[0m\n\u001b[0;32m----> 1\u001b[0;31m \u001b[0;32mprint\u001b[0m \u001b[0mw\u001b[0m\u001b[0;34m.\u001b[0m\u001b[0mmatrix\u001b[0m\u001b[0;34m\u001b[0m\u001b[0m\n\u001b[0m",
      "\u001b[0;31mAttributeError\u001b[0m: 'WIPI' object has no attribute 'matrix'"
     ]
    }
   ],
   "source": [
    "print w.matrix"
   ]
  },
  {
   "cell_type": "code",
   "execution_count": 44,
   "metadata": {},
   "outputs": [
    {
     "name": "stdout",
     "output_type": "stream",
     "text": [
      "<HDF5 file \"reweight.h5\" (mode r+)>\n"
     ]
    }
   ],
   "source": [
    "print w.scheme.TEST.reweight"
   ]
  },
  {
   "cell_type": "code",
   "execution_count": 5,
   "metadata": {},
   "outputs": [
    {
     "data": {
      "text/plain": [
       "50"
      ]
     },
     "execution_count": 5,
     "metadata": {},
     "output_type": "execute_result"
    }
   ],
   "source": [
    "w.iteration"
   ]
  },
  {
   "cell_type": "code",
   "execution_count": null,
   "metadata": {},
   "outputs": [],
   "source": []
  }
 ],
 "metadata": {
  "anaconda-cloud": {},
  "kernelspec": {
   "display_name": "Python 2",
   "language": "python",
   "name": "python2"
  },
  "language_info": {
   "codemirror_mode": {
    "name": "ipython",
    "version": 2
   },
   "file_extension": ".py",
   "mimetype": "text/x-python",
   "name": "python",
   "nbconvert_exporter": "python",
   "pygments_lexer": "ipython2",
   "version": "2.7.15"
  }
 },
 "nbformat": 4,
 "nbformat_minor": 1
}
