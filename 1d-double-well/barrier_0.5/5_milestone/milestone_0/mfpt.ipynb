{
 "cells": [
  {
   "cell_type": "markdown",
   "metadata": {
    "collapsed": true
   },
   "source": [
    "**Jupyter: w_ipa**\n",
    "\n",
    "This is an example jupyter/ipython notebook for WESTPA simulations, designed for interactive analysis using w_ipa.  Use this as a template for further browser-based interactive analysis of simulations.\n",
    "\n",
    "You'll want to start each notebook session with the following:\n",
    "\n",
    "```\n",
    "    import w_ipython\n",
    "    w = w_ipython.WIPI()\n",
    "    w.main()\n",
    "```\n",
    "\n",
    "The w object can then be used for analysis.  Schemes can be listed and changed with\n",
    "\n",
    "```\n",
    "    w.list_schemes\n",
    "    w.scheme = SCHEME_NUMBER/NAME\n",
    "```\n",
    "\n",
    "Run help(w), or w.introduction for more details.\n",
    "\n",
    "Happy analyzing!"
   ]
  },
  {
   "cell_type": "code",
   "execution_count": 1,
   "metadata": {},
   "outputs": [
    {
     "name": "stderr",
     "output_type": "stream",
     "text": [
      "/home/dhiman/Miniconda2/envs/westpa-2017.10/lib/python2.7/site-packages/h5py/__init__.py:36: FutureWarning: Conversion of the second argument of issubdtype from `float` to `np.floating` is deprecated. In future, it will be treated as `np.float64 == np.dtype(float).type`.\n",
      "  from ._conv import register_converters as _register_converters\n"
     ]
    },
    {
     "name": "stdout",
     "output_type": "stream",
     "text": [
      "\n",
      "Welcome to w_ipa (WESTPA Interactive Python Analysis) v. 1.0B!\n",
      "Run w.introduction for a more thorough introduction, or w.help to see a list of options.\n",
      "Running analysis & loading files.\n",
      "Reanalyzing file assign.h5 for scheme TEST.\n",
      "Reanalyzing file direct.h5 for scheme TEST.\n",
      "Reanalyzing file reweight.h5 for scheme TEST.\n",
      "\n",
      "Complete!\n",
      "Setting iteration to iter 200.\n"
     ]
    }
   ],
   "source": [
    "%matplotlib inline\n",
    "from matplotlib import pyplot as plt\n",
    "import numpy as np\n",
    "import w_ipa\n",
    "w = w_ipa.WIPI()\n",
    "# At startup, it will load or run the analysis schemes specified in the configuration file (typically west.cfg)\n",
    "w.main()\n",
    "w.interface = 'matplotlib'"
   ]
  },
  {
   "cell_type": "code",
   "execution_count": 2,
   "metadata": {},
   "outputs": [
    {
     "name": "stdout",
     "output_type": "stream",
     "text": [
      "Setting iteration to iter 1.\n",
      "Setting iteration to iter 2.\n",
      "Setting iteration to iter 3.\n",
      "Setting iteration to iter 4.\n",
      "Setting iteration to iter 5.\n",
      "Setting iteration to iter 6.\n",
      "Setting iteration to iter 7.\n",
      "Setting iteration to iter 8.\n",
      "Setting iteration to iter 9.\n",
      "Setting iteration to iter 10.\n",
      "Setting iteration to iter 11.\n",
      "Setting iteration to iter 12.\n",
      "Setting iteration to iter 13.\n",
      "Setting iteration to iter 14.\n",
      "Setting iteration to iter 15.\n",
      "Setting iteration to iter 16.\n",
      "Setting iteration to iter 17.\n",
      "Setting iteration to iter 18.\n",
      "Setting iteration to iter 19.\n",
      "Setting iteration to iter 20.\n",
      "Setting iteration to iter 21.\n",
      "Setting iteration to iter 22.\n",
      "Setting iteration to iter 23.\n",
      "Setting iteration to iter 24.\n",
      "Setting iteration to iter 25.\n",
      "Setting iteration to iter 26.\n",
      "Setting iteration to iter 27.\n",
      "Setting iteration to iter 28.\n",
      "Setting iteration to iter 29.\n",
      "Setting iteration to iter 30.\n",
      "Setting iteration to iter 31.\n",
      "Setting iteration to iter 32.\n",
      "Setting iteration to iter 33.\n",
      "Setting iteration to iter 34.\n",
      "Setting iteration to iter 35.\n",
      "Setting iteration to iter 36.\n",
      "Setting iteration to iter 37.\n",
      "Setting iteration to iter 38.\n",
      "Setting iteration to iter 39.\n",
      "Setting iteration to iter 40.\n",
      "Setting iteration to iter 41.\n",
      "Setting iteration to iter 42.\n",
      "Setting iteration to iter 43.\n",
      "Setting iteration to iter 44.\n",
      "Setting iteration to iter 45.\n",
      "Setting iteration to iter 46.\n",
      "Setting iteration to iter 47.\n",
      "Setting iteration to iter 48.\n",
      "Setting iteration to iter 49.\n",
      "Setting iteration to iter 50.\n",
      "Setting iteration to iter 51.\n",
      "Setting iteration to iter 52.\n",
      "Setting iteration to iter 53.\n",
      "Setting iteration to iter 54.\n",
      "Setting iteration to iter 55.\n",
      "Setting iteration to iter 56.\n",
      "Setting iteration to iter 57.\n",
      "Setting iteration to iter 58.\n",
      "Setting iteration to iter 59.\n",
      "Setting iteration to iter 60.\n",
      "Setting iteration to iter 61.\n",
      "Setting iteration to iter 62.\n",
      "Setting iteration to iter 63.\n",
      "Setting iteration to iter 64.\n",
      "Setting iteration to iter 65.\n",
      "Setting iteration to iter 66.\n",
      "Setting iteration to iter 67.\n",
      "Setting iteration to iter 68.\n",
      "Setting iteration to iter 69.\n",
      "Setting iteration to iter 70.\n",
      "Setting iteration to iter 71.\n",
      "Setting iteration to iter 72.\n",
      "Setting iteration to iter 73.\n",
      "Setting iteration to iter 74.\n",
      "Setting iteration to iter 75.\n",
      "Setting iteration to iter 76.\n",
      "Setting iteration to iter 77.\n",
      "Setting iteration to iter 78.\n",
      "Setting iteration to iter 79.\n",
      "Setting iteration to iter 80.\n",
      "Setting iteration to iter 81.\n",
      "Setting iteration to iter 82.\n",
      "Setting iteration to iter 83.\n",
      "Setting iteration to iter 84.\n",
      "Setting iteration to iter 85.\n",
      "Setting iteration to iter 86.\n",
      "Setting iteration to iter 87.\n",
      "Setting iteration to iter 88.\n",
      "Setting iteration to iter 89.\n",
      "Setting iteration to iter 90.\n",
      "Setting iteration to iter 91.\n",
      "Setting iteration to iter 92.\n",
      "Setting iteration to iter 93.\n",
      "Setting iteration to iter 94.\n",
      "Setting iteration to iter 95.\n",
      "Setting iteration to iter 96.\n",
      "Setting iteration to iter 97.\n",
      "Setting iteration to iter 98.\n",
      "Setting iteration to iter 99.\n",
      "Setting iteration to iter 100.\n",
      "Setting iteration to iter 101.\n",
      "Setting iteration to iter 102.\n",
      "Setting iteration to iter 103.\n",
      "Setting iteration to iter 104.\n",
      "Setting iteration to iter 105.\n",
      "Setting iteration to iter 106.\n",
      "Setting iteration to iter 107.\n",
      "Setting iteration to iter 108.\n",
      "Setting iteration to iter 109.\n",
      "Setting iteration to iter 110.\n",
      "Setting iteration to iter 111.\n",
      "Setting iteration to iter 112.\n",
      "Setting iteration to iter 113.\n",
      "Setting iteration to iter 114.\n",
      "Setting iteration to iter 115.\n",
      "Setting iteration to iter 116.\n",
      "Setting iteration to iter 117.\n",
      "Setting iteration to iter 118.\n",
      "Setting iteration to iter 119.\n",
      "Setting iteration to iter 120.\n",
      "Setting iteration to iter 121.\n",
      "Setting iteration to iter 122.\n",
      "Setting iteration to iter 123.\n",
      "Setting iteration to iter 124.\n",
      "Setting iteration to iter 125.\n",
      "Setting iteration to iter 126.\n",
      "Setting iteration to iter 127.\n",
      "Setting iteration to iter 128.\n",
      "Setting iteration to iter 129.\n",
      "Setting iteration to iter 130.\n",
      "Setting iteration to iter 131.\n",
      "Setting iteration to iter 132.\n",
      "Setting iteration to iter 133.\n",
      "Setting iteration to iter 134.\n",
      "Setting iteration to iter 135.\n",
      "Setting iteration to iter 136.\n",
      "Setting iteration to iter 137.\n",
      "Setting iteration to iter 138.\n",
      "Setting iteration to iter 139.\n",
      "Setting iteration to iter 140.\n",
      "Setting iteration to iter 141.\n",
      "Setting iteration to iter 142.\n",
      "Setting iteration to iter 143.\n",
      "Setting iteration to iter 144.\n",
      "Setting iteration to iter 145.\n",
      "Setting iteration to iter 146.\n",
      "Setting iteration to iter 147.\n",
      "Setting iteration to iter 148.\n",
      "Setting iteration to iter 149.\n",
      "Setting iteration to iter 150.\n",
      "Setting iteration to iter 151.\n",
      "Setting iteration to iter 152.\n",
      "Setting iteration to iter 153.\n",
      "Setting iteration to iter 154.\n",
      "Setting iteration to iter 155.\n",
      "Setting iteration to iter 156.\n",
      "Setting iteration to iter 157.\n",
      "Setting iteration to iter 158.\n",
      "Setting iteration to iter 159.\n",
      "Setting iteration to iter 160.\n",
      "Setting iteration to iter 161.\n",
      "Setting iteration to iter 162.\n",
      "Setting iteration to iter 163.\n",
      "Setting iteration to iter 164.\n",
      "Setting iteration to iter 165.\n",
      "Setting iteration to iter 166.\n",
      "Setting iteration to iter 167.\n",
      "Setting iteration to iter 168.\n",
      "Setting iteration to iter 169.\n",
      "Setting iteration to iter 170.\n",
      "Setting iteration to iter 171.\n",
      "Setting iteration to iter 172.\n",
      "Setting iteration to iter 173.\n",
      "Setting iteration to iter 174.\n",
      "Setting iteration to iter 175.\n",
      "Setting iteration to iter 176.\n",
      "Setting iteration to iter 177.\n",
      "Setting iteration to iter 178.\n",
      "Setting iteration to iter 179.\n",
      "Setting iteration to iter 180.\n",
      "Setting iteration to iter 181.\n",
      "Setting iteration to iter 182.\n",
      "Setting iteration to iter 183.\n",
      "Setting iteration to iter 184.\n",
      "Setting iteration to iter 185.\n",
      "Setting iteration to iter 186.\n",
      "Setting iteration to iter 187.\n",
      "Setting iteration to iter 188.\n",
      "Setting iteration to iter 189.\n",
      "Setting iteration to iter 190.\n",
      "Setting iteration to iter 191.\n",
      "Setting iteration to iter 192.\n",
      "Setting iteration to iter 193.\n",
      "Setting iteration to iter 194.\n",
      "Setting iteration to iter 195.\n",
      "Setting iteration to iter 196.\n",
      "Setting iteration to iter 197.\n",
      "Setting iteration to iter 198.\n",
      "Setting iteration to iter 199.\n",
      "Setting iteration to iter 200.\n",
      "MFPT =  336.38135603009295\n",
      "lifetime =  448.57592880487675\n",
      "0.9544538188343052\n",
      "321.0604698475843\n"
     ]
    }
   ],
   "source": [
    "#=====================================================================\n",
    "#CALCULATING LIFETIME FOR MILESTONES\n",
    "#=====================================================================\n",
    "total_iteration = 200\n",
    "\n",
    "it = [0.0 for i in range(total_iteration)]\n",
    "\n",
    "flux = 0.0\n",
    "flux_array = []\n",
    "sink = -1.0\n",
    "\n",
    "lifetime = 0.0\n",
    "for i in range(total_iteration):\n",
    "    w.iteration = i+1\n",
    "    l = w.current.pcoord\n",
    "    wts = w.current.weights\n",
    "    tau = 21\n",
    "    \n",
    "    for j in range(len(l)):\n",
    "        \n",
    "            \n",
    "        if l[j][0] < sink and l[j][tau-1] >= sink:\n",
    "            it[i] += wts[j]\n",
    "            for k in range(tau):\n",
    "                if l[j][k] < sink and l[j][k+1] >= sink:\n",
    "                    flux += wts[j]/float(i*tau+k)\n",
    "                    lifetime += wts[j]*(i*tau+k)\n",
    "    flux_array.append(flux)\n",
    "    \n",
    "print \"MFPT = \", 1./flux     \n",
    "print \"lifetime = \", lifetime/sum(it)\n",
    "print sum(it)\n",
    "print sum(it)/flux\n",
    "#----------------------------------------\n",
    "#Printing milestone data in file\n",
    "#----------------------------------------\n",
    "f1 = open('milestone-data.dat','w')\n",
    "print >>f1, \"#MFPT  #MFPT_back  #lifetime  #forward probability  #backward probability\"\n",
    "print >>f1, 1./flux, 0.0, lifetime/(sum(it)), 1.0, 0.0\n",
    "f1.close()"
   ]
  },
  {
   "cell_type": "code",
   "execution_count": 3,
   "metadata": {},
   "outputs": [
    {
     "data": {
      "text/plain": [
       "[<matplotlib.lines.Line2D at 0x7f3d14793750>]"
      ]
     },
     "execution_count": 3,
     "metadata": {},
     "output_type": "execute_result"
    },
    {
     "data": {
      "image/png": "[encoded data removed]",
      "text/plain": [
       "<Figure size 432x288 with 1 Axes>"
      ]
     },
     "metadata": {
      "needs_background": "light"
     },
     "output_type": "display_data"
    }
   ],
   "source": [
    "#plot lifetime distribution\n",
    "plt.plot(it)"
   ]
  },
  {
   "cell_type": "code",
   "execution_count": 4,
   "metadata": {},
   "outputs": [
    {
     "data": {
      "text/plain": [
       "[<matplotlib.lines.Line2D at 0x7f3d146d7ad0>]"
      ]
     },
     "execution_count": 4,
     "metadata": {},
     "output_type": "execute_result"
    },
    {
     "data": {
      "image/png": "[encoded data removed]",
      "text/plain": [
       "<Figure size 432x288 with 1 Axes>"
      ]
     },
     "metadata": {
      "needs_background": "light"
     },
     "output_type": "display_data"
    }
   ],
   "source": [
    "#check convergence\n",
    "plt.plot(flux_array)"
   ]
  },
  {
   "cell_type": "code",
   "execution_count": 5,
   "metadata": {},
   "outputs": [
    {
     "name": "stdout",
     "output_type": "stream",
     "text": [
      "[0.0, 0.0, 0.0, 0.002388888888888889, 0.011020541549953312, 0.015146617906421833, 0.02277046114742193, 0.015518139848532004, 0.029427652418992298, 0.04073422195088862, 0.06509923836451614, 0.03893365979266033, 0.040876733639151924, 0.04949258838474527, 0.020646554198218665, 0.05495743636591494, 0.027415022670147036, 0.04296886891774862, 0.04362443900629799, 0.03362283358451378, 0.018024442793779863, 0.015428515975601985, 0.025162300869054213, 0.01898643368250031, 0.037350099805556855, 0.02524873968767213, 0.023700636857213506, 0.0211552387973964, 0.023135380415854577, 0.010915454838798475, 0.009711664387480496, 0.018252045905958834, 0.010603531836262614, 0.00414654234493512, 0.007105475983507649, 0.007096535422872793, 0.02004346851068319, 0.0043495111847526, 0.007143782612551396, 0.005506058906721744, 0.007812495680131431, 0.00425775471203899, 0.005293963137048558, 0.004638429892659397, 0.006292173650631763, 0.005059690771650053, 0.004814339314942073, 0.004534050090125328, 0.0022551865287478647, 0.00335026249085172, 0.0022536685444321165, 0.0027295568370784744, 0.00209082642518842, 0.002728099346826792, 0.002017572399951789, 0.002113996672650606, 0.0013257846492044274, 0.001877770677916538, 0.0014968172486559276, 0.0017563951876524854, 0.001117991908940866, 0.0018236453922117462, 0.0013106817696056099, 0.001390163177974444, 0.0008331199746992863, 0.0008446829727382911, 0.0003541447438624056, 0.0010079935314252777, 0.0009966449795458594, 0.0005705743892690995, 0.000519275020634621, 0.0006003156087560117, 0.000308425082893798, 0.0005639982919371247, 0.0005273487239657156, 0.000413288292805327, 0.0003168687645880179, 0.00036792882472197816, 0.00046651048297451927, 0.00022760886661152114, 0.00038057033800633207, 0.00012269069087534088, 0.00012374031976496478, 0.0002059057178130289, 0.00020924606566032614, 0.0002611046290424603, 0.00027415690090058, 0.00019007641902597032, 0.00014051115961184323, 7.286037100157713e-05, 6.919860491798297e-05, 0.00011148747825883547, 7.549000972029294e-05, 0.00014507382953042887, 7.0245863803648e-05, 6.089087859553712e-05, 0.0001367993042835761, 6.857455780556748e-05, 6.255428124282811e-05, 5.708431698080794e-05, 4.585955104006248e-05, 5.624218507063555e-05, 3.670037191200405e-05, 5.5021615509104426e-05, 4.8886497694838486e-05, 4.345602020547478e-05, 1.6413836924458417e-05, 2.1203313351205176e-05, 1.8306290347674235e-05, 2.7364726033851865e-05, 1.9317581424493087e-05, 1.5364006070114115e-05, 2.1681164542238173e-05, 1.4410596766212073e-05, 1.032095268730551e-05, 1.7016716398877203e-05, 1.1403296464008818e-05, 1.559419693500377e-05, 6.653459144121165e-06, 1.2781879274731572e-05, 1.2531936248557991e-05, 4.853159584569142e-06, 6.237881772255886e-06, 3.584229548326292e-06, 4.882406719877576e-06, 7.164590842044404e-06, 7.341846472616717e-06, 4.813397578354084e-06, 7.237349232454201e-06, 3.0859162032573015e-06, 5.747513157305156e-06, 6.244333545254083e-06, 3.535297357407689e-06, 3.3232575982052803e-06, 5.282332760451421e-06, 3.461845787817513e-06, 2.0273638007103763e-06, 2.3764958463546565e-06, 2.3594168129980558e-06, 2.4677135937914233e-06, 3.844744217466745e-06, 2.8158921702646383e-06, 3.5250506479670056e-06, 2.1858042168246013e-06, 1.4134062508864813e-06, 8.693820096814385e-07, 1.1899281201943498e-06, 6.90831278794679e-07, 1.3265097798466358e-06, 1.2594531471117033e-06, 9.235958265051899e-07, 7.720696738807545e-07, 3.375827087582084e-07, 7.078756778611348e-07, 9.427694966687582e-07, 7.799268863766171e-07, 8.895983921742632e-07, 7.337298265816092e-07, 2.3828872352826798e-07, 5.244640609341457e-07, 6.077601084113885e-07, 4.3938746665873264e-07, 3.2449946387600347e-07, 4.201692612899979e-07, 6.045452531341326e-07, 5.107302568619261e-07, 2.9498801046084924e-07, 2.395138445657972e-07, 2.884139495626176e-07, 3.2176253366964913e-07, 1.8774681163814737e-07, 2.442416558304841e-07, 2.141583530093204e-07, 2.0554689754540177e-07, 2.268465997277435e-07, 2.29177737980538e-07, 2.7153730078960137e-07, 2.0860641577657172e-07, 1.0610658521201633e-07, 1.0312564022399639e-07, 1.060050113055945e-07, 1.2633839886150675e-07, 8.9823421422677e-08, 5.598295372620097e-08, 9.483758479272018e-08, 7.976906817547181e-08, 4.64057853522067e-08, 3.295542268725616e-08, 5.058084750994946e-08, 6.225081585828973e-08, 9.05343598463881e-08, 2.6721531387010176e-08, 6.37363833178754e-08, 3.219643261403696e-08, 3.8234449216180296e-08, 3.174847221453729e-08, 2.6975532417076217e-08, 5.1255423830952136e-08, 4.343271578314773e-08, 2.649062069146627e-08]\n"
     ]
    }
   ],
   "source": [
    "print it\n",
    "f1 = open('FPTD.dat','w')\n",
    "\n",
    "for i in range(len(it)):\n",
    "    print >>f1, i*tau, it[i]\n",
    "    \n",
    "f1.close()"
   ]
  },
  {
   "cell_type": "code",
   "execution_count": null,
   "metadata": {},
   "outputs": [],
   "source": []
  }
 ],
 "metadata": {
  "anaconda-cloud": {},
  "kernelspec": {
   "display_name": "Python 2",
   "language": "python",
   "name": "python2"
  },
  "language_info": {
   "codemirror_mode": {
    "name": "ipython",
    "version": 2
   },
   "file_extension": ".py",
   "mimetype": "text/x-python",
   "name": "python",
   "nbconvert_exporter": "python",
   "pygments_lexer": "ipython2",
   "version": "2.7.15"
  }
 },
 "nbformat": 4,
 "nbformat_minor": 1
}
